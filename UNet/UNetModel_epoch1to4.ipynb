{
 "cells": [
  {
   "cell_type": "code",
   "execution_count": 1,
   "id": "4f18bc6c-a1b2-4403-941c-373ec8b82cbd",
   "metadata": {},
   "outputs": [
    {
     "name": "stdout",
     "output_type": "stream",
     "text": [
      "Cuda_available?  True\n",
      "Name:  NVIDIA RTX A5000\n",
      "Device count:  1\n",
      "current device:  0\n",
      "Select device:  <torch.cuda.device object at 0x7f9aab468cd0>\n",
      "get device name:  NVIDIA RTX A5000\n"
     ]
    }
   ],
   "source": [
    "import torch\n",
    "print(\"Cuda_available? \", torch.cuda.is_available())\n",
    "print(\"Name: \", torch.cuda.get_device_name(0))\n",
    "print(\"Device count: \", torch.cuda.device_count())\n",
    "print(\"current device: \", torch.cuda.current_device())\n",
    "print(\"Select device: \", torch.cuda.device(0))\n",
    "print(\"get device name: \",torch.cuda.get_device_name(0))\n",
    "device = torch.device('cuda' if torch.cuda.is_available() else 'cpu') #finally got the solution"
   ]
  },
  {
   "cell_type": "code",
   "execution_count": 2,
   "id": "b82e14e6-2af8-4520-9c19-f9fb74b5f764",
   "metadata": {},
   "outputs": [],
   "source": [
    "data_dir = 'data/ZIP'"
   ]
  },
  {
   "cell_type": "code",
   "execution_count": 3,
   "id": "df01760e-ed2a-4194-93f4-fb4e32bdb3a7",
   "metadata": {},
   "outputs": [],
   "source": [
    "import glob\n",
    "import os\n",
    "import nibabel as nib\n",
    "from monai.data import CacheDataset,    Dataset,    DataLoader,    decollate_batch\n",
    "from monai.networks.nets import UNet\n",
    "from monai.losses import DiceLoss\n",
    "from monai.networks.layers import Norm\n",
    "from monai.metrics import DiceMetric\n",
    "from monai.transforms import AsDiscrete\n",
    "from monai.inferers import sliding_window_inference\n",
    "from monai.transforms import Resize\n",
    "import numpy as np"
   ]
  },
  {
   "cell_type": "code",
   "execution_count": 4,
   "id": "99a86818-0df2-4972-9cb3-a2456f3ef1a6",
   "metadata": {},
   "outputs": [],
   "source": [
    "images_pt = sorted(glob.glob(os.path.join(data_dir, 'PETCT*', '*', \"SUV*\")))\n",
    "images_ct = sorted(glob.glob(os.path.join(data_dir, 'PETCT*', '*', \"CTres*\")))\n",
    "images_sg = sorted(glob.glob(os.path.join(data_dir, 'PETCT*', '*', \"SEG*\")))\n",
    "data_dicts = [\n",
    "            {\"image_pt\": image_name_pt, \"image_ct\": image_name_ct, \"image_sg\": image_name_sg}\n",
    "            for image_name_pt, image_name_ct, image_name_sg in zip(images_pt, images_ct, images_sg)\n",
    "        ]\n",
    "keys = [\"image_pt\", \"image_ct\", \"image_sg\"]\n",
    "train_files, val_files = data_dicts[:70], data_dicts[70:]"
   ]
  },
  {
   "cell_type": "code",
   "execution_count": 5,
   "id": "a841842a-1d50-4405-8337-adf15b51b5d4",
   "metadata": {},
   "outputs": [],
   "source": [
    "from monai.transforms import (\n",
    "Compose,\n",
    "LoadImaged,\n",
    "EnsureChannelFirstd,\n",
    "Spacingd,\n",
    "Orientationd,\n",
    "ScaleIntensityRanged,\n",
    "CropForegroundd,\n",
    "ConcatItemsd,\n",
    "DivisiblePadd,\n",
    "AddChanneld,\n",
    "RandCropByPosNegLabeld,\n",
    "RandFlipd,EnsureTyped,\n",
    "RandRotate90d,\n",
    "RandShiftIntensityd,\n",
    "Resized\n",
    ")"
   ]
  },
  {
   "cell_type": "code",
   "execution_count": 6,
   "id": "56f8aadd-d509-4a4b-8966-a3f1bc2a7ee7",
   "metadata": {},
   "outputs": [
    {
     "name": "stderr",
     "output_type": "stream",
     "text": [
      "/opt/conda/lib/python3.10/site-packages/monai/utils/deprecate_utils.py:321: FutureWarning: monai.transforms.io.dictionary LoadImaged.__init__:image_only: Current default value of argument `image_only=False` has been deprecated since version 1.1. It will be changed to `image_only=True` in version 1.3.\n",
      "  warn_deprecated(argname, msg, warning_category)\n",
      "/opt/conda/lib/python3.10/site-packages/monai/utils/deprecate_utils.py:111: FutureWarning: <class 'monai.transforms.utility.dictionary.AddChanneld'>: Class `AddChanneld` has been deprecated since version 0.8. It will be removed in version 1.3. please use MetaTensor data type and monai.transforms.EnsureChannelFirstd instead with `channel_dim='no_channel'`.\n",
      "  warn_deprecated(obj, msg, warning_category)\n",
      "/opt/conda/lib/python3.10/site-packages/monai/utils/deprecate_utils.py:221: FutureWarning: monai.transforms.utility.dictionary EnsureChannelFirstd.__init__:meta_keys: Argument `meta_keys` has been deprecated since version 0.9. not needed if image is type `MetaTensor`.\n",
      "  warn_deprecated(argname, msg, warning_category)\n"
     ]
    }
   ],
   "source": [
    "crop_val = 96\n",
    "train_transforms = Compose(\n",
    "    [\n",
    "        LoadImaged(keys=keys),\n",
    "        AddChanneld(keys=keys),\n",
    "        ScaleIntensityRanged(\n",
    "            keys=[\"image_ct\"], a_min=-100, a_max=250,\n",
    "             b_min=0.0, b_max=1.0, clip=False,\n",
    "        ),\n",
    "        ScaleIntensityRanged(\n",
    "            keys=[\"image_pt\"], a_min=0, a_max=15,\n",
    "            b_min=0.0, b_max=1.0, clip=False,\n",
    "        ),\n",
    "        #CropForegroundd(keys=[\"image_ct\", \"image_pt\"], source_key=\"image_ct\"),\n",
    "        Orientationd(keys=keys, axcodes=\"LAS\"),\n",
    "        # Resized(keys=keys, spatial_size=(256, 256, 256)), # resizing all keys\n",
    "        ConcatItemsd(keys=[\"image_pt\", \"image_ct\"], name=\"image_petct\", dim=0),\n",
    "        # Add some augmentations\n",
    "        RandCropByPosNegLabeld(keys=[\"image_petct\", \"image_sg\"], label_key=\"image_sg\", spatial_size=(crop_val, crop_val, crop_val), pos=1, neg=1,\n",
    "            num_samples=6,\n",
    "            image_key=\"image_petct\",\n",
    "            image_threshold=0,\n",
    "        ),\n",
    "        RandRotate90d(\n",
    "            keys=[\"image_petct\", \"image_sg\"],\n",
    "            prob=0.10,\n",
    "            max_k=3,\n",
    "        ),\n",
    "        RandFlipd(\n",
    "            keys=[\"image_petct\", \"image_sg\"],\n",
    "            spatial_axis=[0, 1, 2],\n",
    "            prob=0.10,\n",
    "        ),\n",
    "        RandShiftIntensityd(\n",
    "            keys=[\"image_petct\"],\n",
    "            offsets=0.10,\n",
    "            prob=0.50,\n",
    "        ),\n",
    "        EnsureTyped(keys=[\"image_petct\", \"image_sg\"]),\n",
    "    ]\n",
    ")"
   ]
  },
  {
   "cell_type": "code",
   "execution_count": 7,
   "id": "d3fcab5a-6e20-4b97-ace9-ee647f73e57e",
   "metadata": {},
   "outputs": [],
   "source": [
    "val_transforms = Compose(\n",
    "    [\n",
    "        LoadImaged(keys=keys),\n",
    "        AddChanneld(keys=keys),\n",
    "        ScaleIntensityRanged(\n",
    "            keys=[\"image_ct\"], a_min=-100, a_max=250,\n",
    "            b_min=0.0, b_max=1.0, clip=False,\n",
    "        ),\n",
    "        ScaleIntensityRanged(\n",
    "            keys=[\"image_pt\"], a_min=0, a_max=15,\n",
    "            b_min=0.0, b_max=1.0, clip=False,\n",
    "        ),\n",
    "        #CropForegroundd(keys=[\"image_ct\", \"image_pt\"], source_key=\"image_ct\"),\n",
    "        Orientationd(keys=keys, axcodes=\"LAS\"),\n",
    "        # Resized(keys=keys, spatial_size=(256, 256, 256)), # resizing all keys\n",
    "        ConcatItemsd(keys=[\"image_pt\", \"image_ct\"], name=\"image_petct\", dim=0),\n",
    "        EnsureTyped(keys=[\"image_petct\", \"image_sg\"]),\n",
    "    ]\n",
    ")\n"
   ]
  },
  {
   "cell_type": "code",
   "execution_count": 12,
   "id": "64e5eaed-5c72-4267-af8d-8de45a523441",
   "metadata": {},
   "outputs": [
    {
     "name": "stderr",
     "output_type": "stream",
     "text": [
      "Loading dataset: 100%|██████████| 2/2 [00:05<00:00,  2.89s/it]\n",
      "Loading dataset: 100%|██████████| 1/1 [00:03<00:00,  3.07s/it]\n"
     ]
    }
   ],
   "source": [
    "train_ds = CacheDataset(data=train_files, transform=train_transforms, cache_rate=0.03)\n",
    "#train_ds = Dataset(data=train_files, transform=train_transforms)\n",
    "val_ds = CacheDataset(data=val_files, transform=val_transforms, cache_rate=0.05)\n",
    "#val_ds = Dataset(data=val_files, transform=val_transforms)"
   ]
  },
  {
   "cell_type": "code",
   "execution_count": 13,
   "id": "e91a1789-cb09-4dd1-af92-7c94c356add0",
   "metadata": {},
   "outputs": [],
   "source": [
    "# Create UNet, DiceLoss and Adam optimizer\n",
    "device = torch.device(\"cuda:0\")\n",
    "model = UNet(\n",
    "    spatial_dims=3,\n",
    "    in_channels=2,\n",
    "    out_channels=1,\n",
    "    channels=(16, 32, 64, 128, 256),\n",
    "    strides=(2, 2, 2, 2),\n",
    "    num_res_units=2,\n",
    "    norm=Norm.BATCH\n",
    ").to(device)\n",
    "\n",
    "loss_function = DiceLoss(to_onehot_y=2, softmax=True)\n",
    "lr = 1e-2\n",
    "optimizer = torch.optim.Adam(model.parameters(), lr)\n",
    "dice_metric = DiceMetric(include_background=True, reduction=\"mean\")"
   ]
  },
  {
   "cell_type": "code",
   "execution_count": 14,
   "id": "867a9977-4527-41e1-9016-be00f31f139d",
   "metadata": {},
   "outputs": [],
   "source": [
    "train_loader = DataLoader(train_ds, batch_size=1, shuffle=True, num_workers=0)\n",
    "val_loader  = DataLoader(val_ds, batch_size=1, shuffle=True, num_workers=0)"
   ]
  },
  {
   "cell_type": "code",
   "execution_count": 15,
   "id": "1b859ec6-9434-4d68-99a6-31fa313f296f",
   "metadata": {},
   "outputs": [
    {
     "name": "stderr",
     "output_type": "stream",
     "text": [
      "/opt/conda/lib/python3.10/site-packages/monai/transforms/utils.py:561: UserWarning: Num foregrounds 0, Num backgrounds 19045437, unable to generate class balanced samples, setting `pos_ratio` to 0.\n",
      "  warnings.warn(\n"
     ]
    },
    {
     "name": "stdout",
     "output_type": "stream",
     "text": [
      "torch.Size([6, 1, 96, 96, 96])\n",
      "torch.Size([6, 2, 96, 96, 96])\n",
      "torch.Size([6, 1, 96, 96, 96])\n"
     ]
    }
   ],
   "source": [
    "#tranformation check\n",
    "for batch_data in train_loader:\n",
    "  label = batch_data[\"image_sg\"]\n",
    "  label = label != 0\n",
    "        #print('The label values: ', np.unique(label))\n",
    "  print(label.shape)\n",
    "\n",
    "  inputs, labels = (\n",
    "     batch_data[\"image_petct\"].to(device),\n",
    "     label.to(device),\n",
    "  )\n",
    "  print(inputs.shape)\n",
    "  print(labels.shape)\n",
    "  break"
   ]
  },
  {
   "cell_type": "code",
   "execution_count": 17,
   "id": "98111370-0977-4ab6-83c6-707027db6394",
   "metadata": {},
   "outputs": [
    {
     "name": "stdout",
     "output_type": "stream",
     "text": [
      "----------\n",
      "epoch 1/50\n"
     ]
    },
    {
     "name": "stderr",
     "output_type": "stream",
     "text": [
      "/opt/conda/lib/python3.10/site-packages/monai/transforms/utils.py:561: UserWarning: Num foregrounds 0, Num backgrounds 23508120, unable to generate class balanced samples, setting `pos_ratio` to 0.\n",
      "  warnings.warn(\n"
     ]
    },
    {
     "name": "stdout",
     "output_type": "stream",
     "text": [
      "1/70, train_loss: 1.0000\n",
      "2/70, train_loss: 0.9794\n",
      "3/70, train_loss: 0.9922\n",
      "4/70, train_loss: 0.9889\n",
      "5/70, train_loss: 0.9563\n",
      "6/70, train_loss: 1.0000\n",
      "7/70, train_loss: 0.9981\n"
     ]
    },
    {
     "name": "stderr",
     "output_type": "stream",
     "text": [
      "/opt/conda/lib/python3.10/site-packages/monai/transforms/utils.py:561: UserWarning: Num foregrounds 0, Num backgrounds 24821888, unable to generate class balanced samples, setting `pos_ratio` to 0.\n",
      "  warnings.warn(\n"
     ]
    },
    {
     "name": "stdout",
     "output_type": "stream",
     "text": [
      "8/70, train_loss: 1.0000\n",
      "9/70, train_loss: 0.9998\n",
      "10/70, train_loss: 0.2812\n"
     ]
    },
    {
     "name": "stderr",
     "output_type": "stream",
     "text": [
      "/opt/conda/lib/python3.10/site-packages/monai/transforms/utils.py:561: UserWarning: Num foregrounds 0, Num backgrounds 25647697, unable to generate class balanced samples, setting `pos_ratio` to 0.\n",
      "  warnings.warn(\n"
     ]
    },
    {
     "name": "stdout",
     "output_type": "stream",
     "text": [
      "11/70, train_loss: 1.0000\n",
      "12/70, train_loss: 0.9995\n",
      "13/70, train_loss: 1.3508\n"
     ]
    },
    {
     "name": "stderr",
     "output_type": "stream",
     "text": [
      "/opt/conda/lib/python3.10/site-packages/monai/transforms/utils.py:561: UserWarning: Num foregrounds 0, Num backgrounds 23287246, unable to generate class balanced samples, setting `pos_ratio` to 0.\n",
      "  warnings.warn(\n"
     ]
    },
    {
     "name": "stdout",
     "output_type": "stream",
     "text": [
      "14/70, train_loss: 1.0000\n",
      "15/70, train_loss: 1.0073\n",
      "16/70, train_loss: 0.9893\n",
      "17/70, train_loss: 0.7405\n",
      "18/70, train_loss: 0.7329\n",
      "19/70, train_loss: 1.0026\n",
      "20/70, train_loss: 1.0000\n",
      "21/70, train_loss: 1.0008\n",
      "22/70, train_loss: 0.9412\n",
      "23/70, train_loss: 0.9995\n",
      "24/70, train_loss: 0.9922\n",
      "25/70, train_loss: 0.9785\n"
     ]
    },
    {
     "name": "stderr",
     "output_type": "stream",
     "text": [
      "/opt/conda/lib/python3.10/site-packages/monai/transforms/utils.py:561: UserWarning: Num foregrounds 0, Num backgrounds 27629313, unable to generate class balanced samples, setting `pos_ratio` to 0.\n",
      "  warnings.warn(\n"
     ]
    },
    {
     "name": "stdout",
     "output_type": "stream",
     "text": [
      "26/70, train_loss: 1.0000\n",
      "27/70, train_loss: 0.9991\n",
      "28/70, train_loss: -1.9065\n",
      "29/70, train_loss: 1.0070\n",
      "30/70, train_loss: 1.0248\n",
      "31/70, train_loss: 1.0078\n",
      "32/70, train_loss: 0.9916\n"
     ]
    },
    {
     "name": "stderr",
     "output_type": "stream",
     "text": [
      "/opt/conda/lib/python3.10/site-packages/monai/transforms/utils.py:561: UserWarning: Num foregrounds 0, Num backgrounds 20040136, unable to generate class balanced samples, setting `pos_ratio` to 0.\n",
      "  warnings.warn(\n"
     ]
    },
    {
     "name": "stdout",
     "output_type": "stream",
     "text": [
      "33/70, train_loss: 1.0000\n",
      "34/70, train_loss: 0.9393\n",
      "35/70, train_loss: 1.0575\n",
      "36/70, train_loss: 0.9872\n",
      "37/70, train_loss: 1.0129\n"
     ]
    },
    {
     "name": "stderr",
     "output_type": "stream",
     "text": [
      "/opt/conda/lib/python3.10/site-packages/monai/transforms/utils.py:561: UserWarning: Num foregrounds 0, Num backgrounds 20483549, unable to generate class balanced samples, setting `pos_ratio` to 0.\n",
      "  warnings.warn(\n"
     ]
    },
    {
     "name": "stdout",
     "output_type": "stream",
     "text": [
      "38/70, train_loss: 1.0000\n",
      "39/70, train_loss: 0.9276\n",
      "40/70, train_loss: 1.0000\n",
      "41/70, train_loss: 0.9718\n",
      "42/70, train_loss: 1.0366\n",
      "43/70, train_loss: 0.9945\n",
      "44/70, train_loss: 0.9955\n",
      "45/70, train_loss: 0.9980\n",
      "46/70, train_loss: 0.8592\n",
      "47/70, train_loss: 0.9997\n",
      "48/70, train_loss: 1.0080\n",
      "49/70, train_loss: 0.9997\n",
      "50/70, train_loss: 0.9351\n",
      "51/70, train_loss: 0.9978\n"
     ]
    },
    {
     "name": "stderr",
     "output_type": "stream",
     "text": [
      "/opt/conda/lib/python3.10/site-packages/monai/transforms/utils.py:561: UserWarning: Num foregrounds 0, Num backgrounds 38903555, unable to generate class balanced samples, setting `pos_ratio` to 0.\n",
      "  warnings.warn(\n"
     ]
    },
    {
     "name": "stdout",
     "output_type": "stream",
     "text": [
      "52/70, train_loss: 1.0000\n",
      "53/70, train_loss: 0.9795\n",
      "54/70, train_loss: 1.0000\n",
      "55/70, train_loss: 0.6547\n",
      "56/70, train_loss: 0.9792\n",
      "57/70, train_loss: 0.9640\n",
      "58/70, train_loss: 0.9376\n"
     ]
    },
    {
     "name": "stderr",
     "output_type": "stream",
     "text": [
      "/opt/conda/lib/python3.10/site-packages/monai/transforms/utils.py:561: UserWarning: Num foregrounds 0, Num backgrounds 25075441, unable to generate class balanced samples, setting `pos_ratio` to 0.\n",
      "  warnings.warn(\n"
     ]
    },
    {
     "name": "stdout",
     "output_type": "stream",
     "text": [
      "59/70, train_loss: 1.0000\n",
      "60/70, train_loss: 0.9865\n",
      "61/70, train_loss: 0.7852\n",
      "62/70, train_loss: 0.9996\n",
      "63/70, train_loss: 0.8490\n",
      "64/70, train_loss: 0.9853\n",
      "65/70, train_loss: 0.9683\n"
     ]
    },
    {
     "name": "stderr",
     "output_type": "stream",
     "text": [
      "/opt/conda/lib/python3.10/site-packages/monai/transforms/utils.py:561: UserWarning: Num foregrounds 0, Num backgrounds 24500794, unable to generate class balanced samples, setting `pos_ratio` to 0.\n",
      "  warnings.warn(\n"
     ]
    },
    {
     "name": "stdout",
     "output_type": "stream",
     "text": [
      "66/70, train_loss: 1.0000\n",
      "67/70, train_loss: 0.9993\n",
      "68/70, train_loss: 0.9634\n",
      "69/70, train_loss: 0.3831\n",
      "70/70, train_loss: 0.9878\n",
      "epoch 1 average loss: 0.9171\n",
      "saved new best metric model\n",
      "current epoch: 1 current mean dice: 0.5256\n",
      "best mean dice: 0.5256 at epoch: 1\n",
      "----------\n",
      "epoch 2/50\n",
      "1/70, train_loss: 1.0000\n",
      "2/70, train_loss: 0.8804\n",
      "3/70, train_loss: 0.9812\n",
      "4/70, train_loss: 1.3338\n",
      "5/70, train_loss: 0.9672\n",
      "6/70, train_loss: 0.9978\n",
      "7/70, train_loss: 1.0000\n",
      "8/70, train_loss: 0.9999\n",
      "9/70, train_loss: 0.9861\n",
      "10/70, train_loss: 1.0000\n",
      "11/70, train_loss: 1.0113\n",
      "12/70, train_loss: 1.0000\n",
      "13/70, train_loss: 0.9918\n",
      "14/70, train_loss: 1.0554\n",
      "15/70, train_loss: 0.8502\n",
      "16/70, train_loss: 0.9962\n",
      "17/70, train_loss: 0.9963\n",
      "18/70, train_loss: 1.0083\n",
      "19/70, train_loss: 0.9986\n",
      "20/70, train_loss: 1.0128\n",
      "21/70, train_loss: 0.9992\n",
      "22/70, train_loss: 0.9812\n",
      "23/70, train_loss: 0.9979\n",
      "24/70, train_loss: 1.0000\n",
      "25/70, train_loss: 0.9537\n",
      "26/70, train_loss: 0.9602\n",
      "27/70, train_loss: -1.3434\n",
      "28/70, train_loss: 0.9990\n",
      "29/70, train_loss: 0.9981\n",
      "30/70, train_loss: 1.0656\n",
      "31/70, train_loss: 0.7413\n",
      "32/70, train_loss: 1.0000\n",
      "33/70, train_loss: 0.9991\n",
      "34/70, train_loss: 0.9966\n",
      "35/70, train_loss: 0.9953\n",
      "36/70, train_loss: 0.9957\n",
      "37/70, train_loss: 0.9381\n",
      "38/70, train_loss: 1.0000\n",
      "39/70, train_loss: 0.9957\n",
      "40/70, train_loss: 0.9944\n",
      "41/70, train_loss: 1.0000\n",
      "42/70, train_loss: 0.9988\n",
      "43/70, train_loss: 0.9998\n",
      "44/70, train_loss: 0.9319\n",
      "45/70, train_loss: 0.8565\n",
      "46/70, train_loss: 0.9900\n",
      "47/70, train_loss: 0.9985\n",
      "48/70, train_loss: 0.9972\n",
      "49/70, train_loss: 0.9810\n",
      "50/70, train_loss: 0.9998\n",
      "51/70, train_loss: 1.0000\n",
      "52/70, train_loss: 0.9644\n",
      "53/70, train_loss: 0.9743\n",
      "54/70, train_loss: 0.9901\n",
      "55/70, train_loss: 0.9927\n",
      "56/70, train_loss: 0.9842\n",
      "57/70, train_loss: 0.9723\n",
      "58/70, train_loss: 0.9671\n",
      "59/70, train_loss: 0.9927\n",
      "60/70, train_loss: 1.0000\n",
      "61/70, train_loss: 0.9992\n",
      "62/70, train_loss: 1.0000\n",
      "63/70, train_loss: 0.9681\n",
      "64/70, train_loss: 1.0000\n",
      "65/70, train_loss: 0.9847\n",
      "66/70, train_loss: 0.9942\n",
      "67/70, train_loss: 0.9992\n",
      "68/70, train_loss: 1.0000\n",
      "69/70, train_loss: 1.0000\n",
      "70/70, train_loss: 1.0000\n",
      "epoch 2 average loss: 0.9553\n",
      "current epoch: 2 current mean dice: 0.5256\n",
      "best mean dice: 0.5256 at epoch: 1\n",
      "----------\n",
      "epoch 3/50\n",
      "1/70, train_loss: 0.9941\n",
      "2/70, train_loss: 1.0000\n",
      "3/70, train_loss: 0.9850\n",
      "4/70, train_loss: 0.9828\n",
      "5/70, train_loss: 0.9955\n",
      "6/70, train_loss: 0.9545\n",
      "7/70, train_loss: 1.0000\n",
      "8/70, train_loss: 0.9939\n",
      "9/70, train_loss: 1.0000\n",
      "10/70, train_loss: 0.9083\n",
      "11/70, train_loss: 1.0000\n",
      "12/70, train_loss: 1.0000\n",
      "13/70, train_loss: 0.9989\n",
      "14/70, train_loss: 0.8951\n",
      "15/70, train_loss: 0.9922\n",
      "16/70, train_loss: 0.9513\n",
      "17/70, train_loss: 0.9996\n",
      "18/70, train_loss: 0.9670\n",
      "19/70, train_loss: 0.8636\n",
      "20/70, train_loss: 0.9976\n",
      "21/70, train_loss: 0.9893\n",
      "22/70, train_loss: 0.9977\n",
      "23/70, train_loss: 0.9780\n",
      "24/70, train_loss: 1.0000\n",
      "25/70, train_loss: 1.0000\n",
      "26/70, train_loss: 0.9746\n",
      "27/70, train_loss: 1.0000\n",
      "28/70, train_loss: 0.9999\n",
      "29/70, train_loss: 0.9998\n",
      "30/70, train_loss: 1.0000\n",
      "31/70, train_loss: 0.9916\n",
      "32/70, train_loss: 0.9987\n",
      "33/70, train_loss: 0.8816\n",
      "34/70, train_loss: 0.9996\n",
      "35/70, train_loss: 0.9924\n",
      "36/70, train_loss: 0.9973\n",
      "37/70, train_loss: 1.0000\n",
      "38/70, train_loss: 0.9888\n",
      "39/70, train_loss: 0.9965\n",
      "40/70, train_loss: 0.9640\n",
      "41/70, train_loss: 1.0000\n",
      "42/70, train_loss: 0.9997\n",
      "43/70, train_loss: 0.9928\n",
      "44/70, train_loss: 0.9674\n",
      "45/70, train_loss: 0.9399\n",
      "46/70, train_loss: 1.0000\n",
      "47/70, train_loss: 0.9993\n",
      "48/70, train_loss: 0.9959\n",
      "49/70, train_loss: 0.9819\n",
      "50/70, train_loss: 0.9669\n",
      "51/70, train_loss: 0.9699\n",
      "52/70, train_loss: 0.9539\n",
      "53/70, train_loss: 0.9984\n",
      "54/70, train_loss: 0.9174\n",
      "55/70, train_loss: 0.9972\n",
      "56/70, train_loss: 1.0000\n",
      "57/70, train_loss: 0.9989\n",
      "58/70, train_loss: 0.9821\n",
      "59/70, train_loss: 0.9998\n",
      "60/70, train_loss: 0.9967\n",
      "61/70, train_loss: 0.9702\n",
      "62/70, train_loss: 0.9999\n",
      "63/70, train_loss: 0.9911\n",
      "64/70, train_loss: 0.9995\n",
      "65/70, train_loss: 1.0000\n",
      "66/70, train_loss: 0.8980\n",
      "67/70, train_loss: 0.9977\n",
      "68/70, train_loss: 1.0000\n",
      "69/70, train_loss: 0.9948\n",
      "70/70, train_loss: 0.9947\n",
      "epoch 3 average loss: 0.9819\n",
      "current epoch: 3 current mean dice: 0.5256\n",
      "best mean dice: 0.5256 at epoch: 1\n",
      "----------\n",
      "epoch 4/50\n",
      "1/70, train_loss: 0.9997\n"
     ]
    },
    {
     "ename": "KeyboardInterrupt",
     "evalue": "",
     "output_type": "error",
     "traceback": [
      "\u001b[0;31m---------------------------------------------------------------------------\u001b[0m",
      "\u001b[0;31mKeyboardInterrupt\u001b[0m                         Traceback (most recent call last)",
      "Cell \u001b[0;32mIn[17], line 29\u001b[0m\n\u001b[1;32m     27\u001b[0m epoch_loss \u001b[38;5;241m=\u001b[39m \u001b[38;5;241m0\u001b[39m\n\u001b[1;32m     28\u001b[0m step \u001b[38;5;241m=\u001b[39m \u001b[38;5;241m0\u001b[39m\n\u001b[0;32m---> 29\u001b[0m \u001b[38;5;28;01mfor\u001b[39;00m batch_data \u001b[38;5;129;01min\u001b[39;00m train_loader:\n\u001b[1;32m     30\u001b[0m     step \u001b[38;5;241m+\u001b[39m\u001b[38;5;241m=\u001b[39m \u001b[38;5;241m1\u001b[39m\n\u001b[1;32m     31\u001b[0m     inputs, labels \u001b[38;5;241m=\u001b[39m (\n\u001b[1;32m     32\u001b[0m         batch_data[\u001b[38;5;124m\"\u001b[39m\u001b[38;5;124mimage_petct\u001b[39m\u001b[38;5;124m\"\u001b[39m]\u001b[38;5;241m.\u001b[39mto(device),\n\u001b[1;32m     33\u001b[0m         batch_data[\u001b[38;5;124m\"\u001b[39m\u001b[38;5;124mimage_sg\u001b[39m\u001b[38;5;124m\"\u001b[39m]\u001b[38;5;241m.\u001b[39mto(device),\n\u001b[1;32m     34\u001b[0m     )\n",
      "File \u001b[0;32m/opt/conda/lib/python3.10/site-packages/torch/utils/data/dataloader.py:633\u001b[0m, in \u001b[0;36m_BaseDataLoaderIter.__next__\u001b[0;34m(self)\u001b[0m\n\u001b[1;32m    630\u001b[0m \u001b[38;5;28;01mif\u001b[39;00m \u001b[38;5;28mself\u001b[39m\u001b[38;5;241m.\u001b[39m_sampler_iter \u001b[38;5;129;01mis\u001b[39;00m \u001b[38;5;28;01mNone\u001b[39;00m:\n\u001b[1;32m    631\u001b[0m     \u001b[38;5;66;03m# TODO(https://github.com/pytorch/pytorch/issues/76750)\u001b[39;00m\n\u001b[1;32m    632\u001b[0m     \u001b[38;5;28mself\u001b[39m\u001b[38;5;241m.\u001b[39m_reset()  \u001b[38;5;66;03m# type: ignore[call-arg]\u001b[39;00m\n\u001b[0;32m--> 633\u001b[0m data \u001b[38;5;241m=\u001b[39m \u001b[38;5;28;43mself\u001b[39;49m\u001b[38;5;241;43m.\u001b[39;49m\u001b[43m_next_data\u001b[49m\u001b[43m(\u001b[49m\u001b[43m)\u001b[49m\n\u001b[1;32m    634\u001b[0m \u001b[38;5;28mself\u001b[39m\u001b[38;5;241m.\u001b[39m_num_yielded \u001b[38;5;241m+\u001b[39m\u001b[38;5;241m=\u001b[39m \u001b[38;5;241m1\u001b[39m\n\u001b[1;32m    635\u001b[0m \u001b[38;5;28;01mif\u001b[39;00m \u001b[38;5;28mself\u001b[39m\u001b[38;5;241m.\u001b[39m_dataset_kind \u001b[38;5;241m==\u001b[39m _DatasetKind\u001b[38;5;241m.\u001b[39mIterable \u001b[38;5;129;01mand\u001b[39;00m \\\n\u001b[1;32m    636\u001b[0m         \u001b[38;5;28mself\u001b[39m\u001b[38;5;241m.\u001b[39m_IterableDataset_len_called \u001b[38;5;129;01mis\u001b[39;00m \u001b[38;5;129;01mnot\u001b[39;00m \u001b[38;5;28;01mNone\u001b[39;00m \u001b[38;5;129;01mand\u001b[39;00m \\\n\u001b[1;32m    637\u001b[0m         \u001b[38;5;28mself\u001b[39m\u001b[38;5;241m.\u001b[39m_num_yielded \u001b[38;5;241m>\u001b[39m \u001b[38;5;28mself\u001b[39m\u001b[38;5;241m.\u001b[39m_IterableDataset_len_called:\n",
      "File \u001b[0;32m/opt/conda/lib/python3.10/site-packages/torch/utils/data/dataloader.py:677\u001b[0m, in \u001b[0;36m_SingleProcessDataLoaderIter._next_data\u001b[0;34m(self)\u001b[0m\n\u001b[1;32m    675\u001b[0m \u001b[38;5;28;01mdef\u001b[39;00m \u001b[38;5;21m_next_data\u001b[39m(\u001b[38;5;28mself\u001b[39m):\n\u001b[1;32m    676\u001b[0m     index \u001b[38;5;241m=\u001b[39m \u001b[38;5;28mself\u001b[39m\u001b[38;5;241m.\u001b[39m_next_index()  \u001b[38;5;66;03m# may raise StopIteration\u001b[39;00m\n\u001b[0;32m--> 677\u001b[0m     data \u001b[38;5;241m=\u001b[39m \u001b[38;5;28;43mself\u001b[39;49m\u001b[38;5;241;43m.\u001b[39;49m\u001b[43m_dataset_fetcher\u001b[49m\u001b[38;5;241;43m.\u001b[39;49m\u001b[43mfetch\u001b[49m\u001b[43m(\u001b[49m\u001b[43mindex\u001b[49m\u001b[43m)\u001b[49m  \u001b[38;5;66;03m# may raise StopIteration\u001b[39;00m\n\u001b[1;32m    678\u001b[0m     \u001b[38;5;28;01mif\u001b[39;00m \u001b[38;5;28mself\u001b[39m\u001b[38;5;241m.\u001b[39m_pin_memory:\n\u001b[1;32m    679\u001b[0m         data \u001b[38;5;241m=\u001b[39m _utils\u001b[38;5;241m.\u001b[39mpin_memory\u001b[38;5;241m.\u001b[39mpin_memory(data, \u001b[38;5;28mself\u001b[39m\u001b[38;5;241m.\u001b[39m_pin_memory_device)\n",
      "File \u001b[0;32m/opt/conda/lib/python3.10/site-packages/torch/utils/data/_utils/fetch.py:51\u001b[0m, in \u001b[0;36m_MapDatasetFetcher.fetch\u001b[0;34m(self, possibly_batched_index)\u001b[0m\n\u001b[1;32m     49\u001b[0m         data \u001b[38;5;241m=\u001b[39m \u001b[38;5;28mself\u001b[39m\u001b[38;5;241m.\u001b[39mdataset\u001b[38;5;241m.\u001b[39m__getitems__(possibly_batched_index)\n\u001b[1;32m     50\u001b[0m     \u001b[38;5;28;01melse\u001b[39;00m:\n\u001b[0;32m---> 51\u001b[0m         data \u001b[38;5;241m=\u001b[39m [\u001b[38;5;28mself\u001b[39m\u001b[38;5;241m.\u001b[39mdataset[idx] \u001b[38;5;28;01mfor\u001b[39;00m idx \u001b[38;5;129;01min\u001b[39;00m possibly_batched_index]\n\u001b[1;32m     52\u001b[0m \u001b[38;5;28;01melse\u001b[39;00m:\n\u001b[1;32m     53\u001b[0m     data \u001b[38;5;241m=\u001b[39m \u001b[38;5;28mself\u001b[39m\u001b[38;5;241m.\u001b[39mdataset[possibly_batched_index]\n",
      "File \u001b[0;32m/opt/conda/lib/python3.10/site-packages/torch/utils/data/_utils/fetch.py:51\u001b[0m, in \u001b[0;36m<listcomp>\u001b[0;34m(.0)\u001b[0m\n\u001b[1;32m     49\u001b[0m         data \u001b[38;5;241m=\u001b[39m \u001b[38;5;28mself\u001b[39m\u001b[38;5;241m.\u001b[39mdataset\u001b[38;5;241m.\u001b[39m__getitems__(possibly_batched_index)\n\u001b[1;32m     50\u001b[0m     \u001b[38;5;28;01melse\u001b[39;00m:\n\u001b[0;32m---> 51\u001b[0m         data \u001b[38;5;241m=\u001b[39m [\u001b[38;5;28;43mself\u001b[39;49m\u001b[38;5;241;43m.\u001b[39;49m\u001b[43mdataset\u001b[49m\u001b[43m[\u001b[49m\u001b[43midx\u001b[49m\u001b[43m]\u001b[49m \u001b[38;5;28;01mfor\u001b[39;00m idx \u001b[38;5;129;01min\u001b[39;00m possibly_batched_index]\n\u001b[1;32m     52\u001b[0m \u001b[38;5;28;01melse\u001b[39;00m:\n\u001b[1;32m     53\u001b[0m     data \u001b[38;5;241m=\u001b[39m \u001b[38;5;28mself\u001b[39m\u001b[38;5;241m.\u001b[39mdataset[possibly_batched_index]\n",
      "File \u001b[0;32m/opt/conda/lib/python3.10/site-packages/monai/data/dataset.py:109\u001b[0m, in \u001b[0;36mDataset.__getitem__\u001b[0;34m(self, index)\u001b[0m\n\u001b[1;32m    106\u001b[0m \u001b[38;5;28;01mif\u001b[39;00m \u001b[38;5;28misinstance\u001b[39m(index, collections\u001b[38;5;241m.\u001b[39mabc\u001b[38;5;241m.\u001b[39mSequence):\n\u001b[1;32m    107\u001b[0m     \u001b[38;5;66;03m# dataset[[1, 3, 4]]\u001b[39;00m\n\u001b[1;32m    108\u001b[0m     \u001b[38;5;28;01mreturn\u001b[39;00m Subset(dataset\u001b[38;5;241m=\u001b[39m\u001b[38;5;28mself\u001b[39m, indices\u001b[38;5;241m=\u001b[39mindex)\n\u001b[0;32m--> 109\u001b[0m \u001b[38;5;28;01mreturn\u001b[39;00m \u001b[38;5;28;43mself\u001b[39;49m\u001b[38;5;241;43m.\u001b[39;49m\u001b[43m_transform\u001b[49m\u001b[43m(\u001b[49m\u001b[43mindex\u001b[49m\u001b[43m)\u001b[49m\n",
      "File \u001b[0;32m/opt/conda/lib/python3.10/site-packages/monai/data/dataset.py:908\u001b[0m, in \u001b[0;36mCacheDataset._transform\u001b[0;34m(self, index)\u001b[0m\n\u001b[1;32m    904\u001b[0m     cache_index \u001b[38;5;241m=\u001b[39m index\n\u001b[1;32m    906\u001b[0m \u001b[38;5;28;01mif\u001b[39;00m cache_index \u001b[38;5;129;01mis\u001b[39;00m \u001b[38;5;28;01mNone\u001b[39;00m:\n\u001b[1;32m    907\u001b[0m     \u001b[38;5;66;03m# no cache for this index, execute all the transforms directly\u001b[39;00m\n\u001b[0;32m--> 908\u001b[0m     \u001b[38;5;28;01mreturn\u001b[39;00m \u001b[38;5;28;43msuper\u001b[39;49m\u001b[43m(\u001b[49m\u001b[43m)\u001b[49m\u001b[38;5;241;43m.\u001b[39;49m\u001b[43m_transform\u001b[49m\u001b[43m(\u001b[49m\u001b[43mindex\u001b[49m\u001b[43m)\u001b[49m\n\u001b[1;32m    910\u001b[0m \u001b[38;5;28;01mif\u001b[39;00m \u001b[38;5;28mself\u001b[39m\u001b[38;5;241m.\u001b[39m_cache \u001b[38;5;129;01mis\u001b[39;00m \u001b[38;5;28;01mNone\u001b[39;00m:\n\u001b[1;32m    911\u001b[0m     \u001b[38;5;28;01mraise\u001b[39;00m \u001b[38;5;167;01mRuntimeError\u001b[39;00m(\u001b[38;5;124m\"\u001b[39m\u001b[38;5;124mcache buffer is not initialized, please call `set_data()` first.\u001b[39m\u001b[38;5;124m\"\u001b[39m)\n",
      "File \u001b[0;32m/opt/conda/lib/python3.10/site-packages/monai/data/dataset.py:95\u001b[0m, in \u001b[0;36mDataset._transform\u001b[0;34m(self, index)\u001b[0m\n\u001b[1;32m     91\u001b[0m \u001b[38;5;250m\u001b[39m\u001b[38;5;124;03m\"\"\"\u001b[39;00m\n\u001b[1;32m     92\u001b[0m \u001b[38;5;124;03mFetch single data item from `self.data`.\u001b[39;00m\n\u001b[1;32m     93\u001b[0m \u001b[38;5;124;03m\"\"\"\u001b[39;00m\n\u001b[1;32m     94\u001b[0m data_i \u001b[38;5;241m=\u001b[39m \u001b[38;5;28mself\u001b[39m\u001b[38;5;241m.\u001b[39mdata[index]\n\u001b[0;32m---> 95\u001b[0m \u001b[38;5;28;01mreturn\u001b[39;00m \u001b[43mapply_transform\u001b[49m\u001b[43m(\u001b[49m\u001b[38;5;28;43mself\u001b[39;49m\u001b[38;5;241;43m.\u001b[39;49m\u001b[43mtransform\u001b[49m\u001b[43m,\u001b[49m\u001b[43m \u001b[49m\u001b[43mdata_i\u001b[49m\u001b[43m)\u001b[49m \u001b[38;5;28;01mif\u001b[39;00m \u001b[38;5;28mself\u001b[39m\u001b[38;5;241m.\u001b[39mtransform \u001b[38;5;129;01mis\u001b[39;00m \u001b[38;5;129;01mnot\u001b[39;00m \u001b[38;5;28;01mNone\u001b[39;00m \u001b[38;5;28;01melse\u001b[39;00m data_i\n",
      "File \u001b[0;32m/opt/conda/lib/python3.10/site-packages/monai/transforms/transform.py:141\u001b[0m, in \u001b[0;36mapply_transform\u001b[0;34m(transform, data, map_items, unpack_items, log_stats, lazy, overrides)\u001b[0m\n\u001b[1;32m    139\u001b[0m     \u001b[38;5;28;01mif\u001b[39;00m \u001b[38;5;28misinstance\u001b[39m(data, (\u001b[38;5;28mlist\u001b[39m, \u001b[38;5;28mtuple\u001b[39m)) \u001b[38;5;129;01mand\u001b[39;00m map_items:\n\u001b[1;32m    140\u001b[0m         \u001b[38;5;28;01mreturn\u001b[39;00m [_apply_transform(transform, item, unpack_items, lazy, overrides, log_stats) \u001b[38;5;28;01mfor\u001b[39;00m item \u001b[38;5;129;01min\u001b[39;00m data]\n\u001b[0;32m--> 141\u001b[0m     \u001b[38;5;28;01mreturn\u001b[39;00m \u001b[43m_apply_transform\u001b[49m\u001b[43m(\u001b[49m\u001b[43mtransform\u001b[49m\u001b[43m,\u001b[49m\u001b[43m \u001b[49m\u001b[43mdata\u001b[49m\u001b[43m,\u001b[49m\u001b[43m \u001b[49m\u001b[43munpack_items\u001b[49m\u001b[43m,\u001b[49m\u001b[43m \u001b[49m\u001b[43mlazy\u001b[49m\u001b[43m,\u001b[49m\u001b[43m \u001b[49m\u001b[43moverrides\u001b[49m\u001b[43m,\u001b[49m\u001b[43m \u001b[49m\u001b[43mlog_stats\u001b[49m\u001b[43m)\u001b[49m\n\u001b[1;32m    142\u001b[0m \u001b[38;5;28;01mexcept\u001b[39;00m \u001b[38;5;167;01mException\u001b[39;00m \u001b[38;5;28;01mas\u001b[39;00m e:\n\u001b[1;32m    143\u001b[0m     \u001b[38;5;66;03m# if in debug mode, don't swallow exception so that the breakpoint\u001b[39;00m\n\u001b[1;32m    144\u001b[0m     \u001b[38;5;66;03m# appears where the exception was raised.\u001b[39;00m\n\u001b[1;32m    145\u001b[0m     \u001b[38;5;28;01mif\u001b[39;00m MONAIEnvVars\u001b[38;5;241m.\u001b[39mdebug():\n",
      "File \u001b[0;32m/opt/conda/lib/python3.10/site-packages/monai/transforms/transform.py:98\u001b[0m, in \u001b[0;36m_apply_transform\u001b[0;34m(transform, data, unpack_parameters, lazy, overrides, logger_name)\u001b[0m\n\u001b[1;32m     95\u001b[0m \u001b[38;5;28;01mif\u001b[39;00m \u001b[38;5;28misinstance\u001b[39m(data, \u001b[38;5;28mtuple\u001b[39m) \u001b[38;5;129;01mand\u001b[39;00m unpack_parameters:\n\u001b[1;32m     96\u001b[0m     \u001b[38;5;28;01mreturn\u001b[39;00m transform(\u001b[38;5;241m*\u001b[39mdata, lazy\u001b[38;5;241m=\u001b[39mlazy) \u001b[38;5;28;01mif\u001b[39;00m \u001b[38;5;28misinstance\u001b[39m(transform, LazyTrait) \u001b[38;5;28;01melse\u001b[39;00m transform(\u001b[38;5;241m*\u001b[39mdata)\n\u001b[0;32m---> 98\u001b[0m \u001b[38;5;28;01mreturn\u001b[39;00m transform(data, lazy\u001b[38;5;241m=\u001b[39mlazy) \u001b[38;5;28;01mif\u001b[39;00m \u001b[38;5;28misinstance\u001b[39m(transform, LazyTrait) \u001b[38;5;28;01melse\u001b[39;00m \u001b[43mtransform\u001b[49m\u001b[43m(\u001b[49m\u001b[43mdata\u001b[49m\u001b[43m)\u001b[49m\n",
      "File \u001b[0;32m/opt/conda/lib/python3.10/site-packages/monai/transforms/compose.py:322\u001b[0m, in \u001b[0;36mCompose.__call__\u001b[0;34m(self, input_, start, end, threading, lazy)\u001b[0m\n\u001b[1;32m    321\u001b[0m \u001b[38;5;28;01mdef\u001b[39;00m \u001b[38;5;21m__call__\u001b[39m(\u001b[38;5;28mself\u001b[39m, input_, start\u001b[38;5;241m=\u001b[39m\u001b[38;5;241m0\u001b[39m, end\u001b[38;5;241m=\u001b[39m\u001b[38;5;28;01mNone\u001b[39;00m, threading\u001b[38;5;241m=\u001b[39m\u001b[38;5;28;01mFalse\u001b[39;00m, lazy: \u001b[38;5;28mbool\u001b[39m \u001b[38;5;241m|\u001b[39m \u001b[38;5;28;01mNone\u001b[39;00m \u001b[38;5;241m=\u001b[39m \u001b[38;5;28;01mNone\u001b[39;00m):\n\u001b[0;32m--> 322\u001b[0m     result \u001b[38;5;241m=\u001b[39m \u001b[43mexecute_compose\u001b[49m\u001b[43m(\u001b[49m\n\u001b[1;32m    323\u001b[0m \u001b[43m        \u001b[49m\u001b[43minput_\u001b[49m\u001b[43m,\u001b[49m\n\u001b[1;32m    324\u001b[0m \u001b[43m        \u001b[49m\u001b[43mtransforms\u001b[49m\u001b[38;5;241;43m=\u001b[39;49m\u001b[38;5;28;43mself\u001b[39;49m\u001b[38;5;241;43m.\u001b[39;49m\u001b[43mtransforms\u001b[49m\u001b[43m,\u001b[49m\n\u001b[1;32m    325\u001b[0m \u001b[43m        \u001b[49m\u001b[43mstart\u001b[49m\u001b[38;5;241;43m=\u001b[39;49m\u001b[43mstart\u001b[49m\u001b[43m,\u001b[49m\n\u001b[1;32m    326\u001b[0m \u001b[43m        \u001b[49m\u001b[43mend\u001b[49m\u001b[38;5;241;43m=\u001b[39;49m\u001b[43mend\u001b[49m\u001b[43m,\u001b[49m\n\u001b[1;32m    327\u001b[0m \u001b[43m        \u001b[49m\u001b[43mmap_items\u001b[49m\u001b[38;5;241;43m=\u001b[39;49m\u001b[38;5;28;43mself\u001b[39;49m\u001b[38;5;241;43m.\u001b[39;49m\u001b[43mmap_items\u001b[49m\u001b[43m,\u001b[49m\n\u001b[1;32m    328\u001b[0m \u001b[43m        \u001b[49m\u001b[43munpack_items\u001b[49m\u001b[38;5;241;43m=\u001b[39;49m\u001b[38;5;28;43mself\u001b[39;49m\u001b[38;5;241;43m.\u001b[39;49m\u001b[43munpack_items\u001b[49m\u001b[43m,\u001b[49m\n\u001b[1;32m    329\u001b[0m \u001b[43m        \u001b[49m\u001b[43mlazy\u001b[49m\u001b[38;5;241;43m=\u001b[39;49m\u001b[38;5;28;43mself\u001b[39;49m\u001b[38;5;241;43m.\u001b[39;49m\u001b[43mlazy\u001b[49m\u001b[43m,\u001b[49m\n\u001b[1;32m    330\u001b[0m \u001b[43m        \u001b[49m\u001b[43moverrides\u001b[49m\u001b[38;5;241;43m=\u001b[39;49m\u001b[38;5;28;43mself\u001b[39;49m\u001b[38;5;241;43m.\u001b[39;49m\u001b[43moverrides\u001b[49m\u001b[43m,\u001b[49m\n\u001b[1;32m    331\u001b[0m \u001b[43m        \u001b[49m\u001b[43mthreading\u001b[49m\u001b[38;5;241;43m=\u001b[39;49m\u001b[43mthreading\u001b[49m\u001b[43m,\u001b[49m\n\u001b[1;32m    332\u001b[0m \u001b[43m        \u001b[49m\u001b[43mlog_stats\u001b[49m\u001b[38;5;241;43m=\u001b[39;49m\u001b[38;5;28;43mself\u001b[39;49m\u001b[38;5;241;43m.\u001b[39;49m\u001b[43mlog_stats\u001b[49m\u001b[43m,\u001b[49m\n\u001b[1;32m    333\u001b[0m \u001b[43m    \u001b[49m\u001b[43m)\u001b[49m\n\u001b[1;32m    335\u001b[0m     \u001b[38;5;28;01mreturn\u001b[39;00m result\n",
      "File \u001b[0;32m/opt/conda/lib/python3.10/site-packages/monai/transforms/compose.py:111\u001b[0m, in \u001b[0;36mexecute_compose\u001b[0;34m(data, transforms, map_items, unpack_items, start, end, lazy, overrides, threading, log_stats)\u001b[0m\n\u001b[1;32m    109\u001b[0m     \u001b[38;5;28;01mif\u001b[39;00m threading:\n\u001b[1;32m    110\u001b[0m         _transform \u001b[38;5;241m=\u001b[39m deepcopy(_transform) \u001b[38;5;28;01mif\u001b[39;00m \u001b[38;5;28misinstance\u001b[39m(_transform, ThreadUnsafe) \u001b[38;5;28;01melse\u001b[39;00m _transform\n\u001b[0;32m--> 111\u001b[0m     data \u001b[38;5;241m=\u001b[39m \u001b[43mapply_transform\u001b[49m\u001b[43m(\u001b[49m\n\u001b[1;32m    112\u001b[0m \u001b[43m        \u001b[49m\u001b[43m_transform\u001b[49m\u001b[43m,\u001b[49m\u001b[43m \u001b[49m\u001b[43mdata\u001b[49m\u001b[43m,\u001b[49m\u001b[43m \u001b[49m\u001b[43mmap_items\u001b[49m\u001b[43m,\u001b[49m\u001b[43m \u001b[49m\u001b[43munpack_items\u001b[49m\u001b[43m,\u001b[49m\u001b[43m \u001b[49m\u001b[43mlazy\u001b[49m\u001b[38;5;241;43m=\u001b[39;49m\u001b[43mlazy\u001b[49m\u001b[43m,\u001b[49m\u001b[43m \u001b[49m\u001b[43moverrides\u001b[49m\u001b[38;5;241;43m=\u001b[39;49m\u001b[43moverrides\u001b[49m\u001b[43m,\u001b[49m\u001b[43m \u001b[49m\u001b[43mlog_stats\u001b[49m\u001b[38;5;241;43m=\u001b[39;49m\u001b[43mlog_stats\u001b[49m\n\u001b[1;32m    113\u001b[0m \u001b[43m    \u001b[49m\u001b[43m)\u001b[49m\n\u001b[1;32m    114\u001b[0m data \u001b[38;5;241m=\u001b[39m apply_pending_transforms(data, \u001b[38;5;28;01mNone\u001b[39;00m, overrides, logger_name\u001b[38;5;241m=\u001b[39mlog_stats)\n\u001b[1;32m    115\u001b[0m \u001b[38;5;28;01mreturn\u001b[39;00m data\n",
      "File \u001b[0;32m/opt/conda/lib/python3.10/site-packages/monai/transforms/transform.py:141\u001b[0m, in \u001b[0;36mapply_transform\u001b[0;34m(transform, data, map_items, unpack_items, log_stats, lazy, overrides)\u001b[0m\n\u001b[1;32m    139\u001b[0m     \u001b[38;5;28;01mif\u001b[39;00m \u001b[38;5;28misinstance\u001b[39m(data, (\u001b[38;5;28mlist\u001b[39m, \u001b[38;5;28mtuple\u001b[39m)) \u001b[38;5;129;01mand\u001b[39;00m map_items:\n\u001b[1;32m    140\u001b[0m         \u001b[38;5;28;01mreturn\u001b[39;00m [_apply_transform(transform, item, unpack_items, lazy, overrides, log_stats) \u001b[38;5;28;01mfor\u001b[39;00m item \u001b[38;5;129;01min\u001b[39;00m data]\n\u001b[0;32m--> 141\u001b[0m     \u001b[38;5;28;01mreturn\u001b[39;00m \u001b[43m_apply_transform\u001b[49m\u001b[43m(\u001b[49m\u001b[43mtransform\u001b[49m\u001b[43m,\u001b[49m\u001b[43m \u001b[49m\u001b[43mdata\u001b[49m\u001b[43m,\u001b[49m\u001b[43m \u001b[49m\u001b[43munpack_items\u001b[49m\u001b[43m,\u001b[49m\u001b[43m \u001b[49m\u001b[43mlazy\u001b[49m\u001b[43m,\u001b[49m\u001b[43m \u001b[49m\u001b[43moverrides\u001b[49m\u001b[43m,\u001b[49m\u001b[43m \u001b[49m\u001b[43mlog_stats\u001b[49m\u001b[43m)\u001b[49m\n\u001b[1;32m    142\u001b[0m \u001b[38;5;28;01mexcept\u001b[39;00m \u001b[38;5;167;01mException\u001b[39;00m \u001b[38;5;28;01mas\u001b[39;00m e:\n\u001b[1;32m    143\u001b[0m     \u001b[38;5;66;03m# if in debug mode, don't swallow exception so that the breakpoint\u001b[39;00m\n\u001b[1;32m    144\u001b[0m     \u001b[38;5;66;03m# appears where the exception was raised.\u001b[39;00m\n\u001b[1;32m    145\u001b[0m     \u001b[38;5;28;01mif\u001b[39;00m MONAIEnvVars\u001b[38;5;241m.\u001b[39mdebug():\n",
      "File \u001b[0;32m/opt/conda/lib/python3.10/site-packages/monai/transforms/transform.py:98\u001b[0m, in \u001b[0;36m_apply_transform\u001b[0;34m(transform, data, unpack_parameters, lazy, overrides, logger_name)\u001b[0m\n\u001b[1;32m     95\u001b[0m \u001b[38;5;28;01mif\u001b[39;00m \u001b[38;5;28misinstance\u001b[39m(data, \u001b[38;5;28mtuple\u001b[39m) \u001b[38;5;129;01mand\u001b[39;00m unpack_parameters:\n\u001b[1;32m     96\u001b[0m     \u001b[38;5;28;01mreturn\u001b[39;00m transform(\u001b[38;5;241m*\u001b[39mdata, lazy\u001b[38;5;241m=\u001b[39mlazy) \u001b[38;5;28;01mif\u001b[39;00m \u001b[38;5;28misinstance\u001b[39m(transform, LazyTrait) \u001b[38;5;28;01melse\u001b[39;00m transform(\u001b[38;5;241m*\u001b[39mdata)\n\u001b[0;32m---> 98\u001b[0m \u001b[38;5;28;01mreturn\u001b[39;00m transform(data, lazy\u001b[38;5;241m=\u001b[39mlazy) \u001b[38;5;28;01mif\u001b[39;00m \u001b[38;5;28misinstance\u001b[39m(transform, LazyTrait) \u001b[38;5;28;01melse\u001b[39;00m \u001b[43mtransform\u001b[49m\u001b[43m(\u001b[49m\u001b[43mdata\u001b[49m\u001b[43m)\u001b[49m\n",
      "File \u001b[0;32m/opt/conda/lib/python3.10/site-packages/monai/transforms/io/dictionary.py:164\u001b[0m, in \u001b[0;36mLoadImaged.__call__\u001b[0;34m(self, data, reader)\u001b[0m\n\u001b[1;32m    162\u001b[0m d \u001b[38;5;241m=\u001b[39m \u001b[38;5;28mdict\u001b[39m(data)\n\u001b[1;32m    163\u001b[0m \u001b[38;5;28;01mfor\u001b[39;00m key, meta_key, meta_key_postfix \u001b[38;5;129;01min\u001b[39;00m \u001b[38;5;28mself\u001b[39m\u001b[38;5;241m.\u001b[39mkey_iterator(d, \u001b[38;5;28mself\u001b[39m\u001b[38;5;241m.\u001b[39mmeta_keys, \u001b[38;5;28mself\u001b[39m\u001b[38;5;241m.\u001b[39mmeta_key_postfix):\n\u001b[0;32m--> 164\u001b[0m     data \u001b[38;5;241m=\u001b[39m \u001b[38;5;28;43mself\u001b[39;49m\u001b[38;5;241;43m.\u001b[39;49m\u001b[43m_loader\u001b[49m\u001b[43m(\u001b[49m\u001b[43md\u001b[49m\u001b[43m[\u001b[49m\u001b[43mkey\u001b[49m\u001b[43m]\u001b[49m\u001b[43m,\u001b[49m\u001b[43m \u001b[49m\u001b[43mreader\u001b[49m\u001b[43m)\u001b[49m\n\u001b[1;32m    165\u001b[0m     \u001b[38;5;28;01mif\u001b[39;00m \u001b[38;5;28mself\u001b[39m\u001b[38;5;241m.\u001b[39m_loader\u001b[38;5;241m.\u001b[39mimage_only:\n\u001b[1;32m    166\u001b[0m         d[key] \u001b[38;5;241m=\u001b[39m data\n",
      "File \u001b[0;32m/opt/conda/lib/python3.10/site-packages/monai/transforms/io/array.py:290\u001b[0m, in \u001b[0;36mLoadImage.__call__\u001b[0;34m(self, filename, reader)\u001b[0m\n\u001b[1;32m    282\u001b[0m     \u001b[38;5;28;01mraise\u001b[39;00m \u001b[38;5;167;01mRuntimeError\u001b[39;00m(\n\u001b[1;32m    283\u001b[0m         \u001b[38;5;124mf\u001b[39m\u001b[38;5;124m\"\u001b[39m\u001b[38;5;132;01m{\u001b[39;00m\u001b[38;5;28mself\u001b[39m\u001b[38;5;241m.\u001b[39m\u001b[38;5;18m__class__\u001b[39m\u001b[38;5;241m.\u001b[39m\u001b[38;5;18m__name__\u001b[39m\u001b[38;5;132;01m}\u001b[39;00m\u001b[38;5;124m cannot find a suitable reader for file: \u001b[39m\u001b[38;5;132;01m{\u001b[39;00mfilename\u001b[38;5;132;01m}\u001b[39;00m\u001b[38;5;124m.\u001b[39m\u001b[38;5;130;01m\\n\u001b[39;00m\u001b[38;5;124m\"\u001b[39m\n\u001b[1;32m    284\u001b[0m         \u001b[38;5;124m\"\u001b[39m\u001b[38;5;124m    Please install the reader libraries, see also the installation instructions:\u001b[39m\u001b[38;5;130;01m\\n\u001b[39;00m\u001b[38;5;124m\"\u001b[39m\n\u001b[1;32m    285\u001b[0m         \u001b[38;5;124m\"\u001b[39m\u001b[38;5;124m    https://docs.monai.io/en/latest/installation.html#installing-the-recommended-dependencies.\u001b[39m\u001b[38;5;130;01m\\n\u001b[39;00m\u001b[38;5;124m\"\u001b[39m\n\u001b[1;32m    286\u001b[0m         \u001b[38;5;124mf\u001b[39m\u001b[38;5;124m\"\u001b[39m\u001b[38;5;124m   The current registered: \u001b[39m\u001b[38;5;132;01m{\u001b[39;00m\u001b[38;5;28mself\u001b[39m\u001b[38;5;241m.\u001b[39mreaders\u001b[38;5;132;01m}\u001b[39;00m\u001b[38;5;124m.\u001b[39m\u001b[38;5;130;01m\\n\u001b[39;00m\u001b[38;5;132;01m{\u001b[39;00mmsg\u001b[38;5;132;01m}\u001b[39;00m\u001b[38;5;124m\"\u001b[39m\n\u001b[1;32m    287\u001b[0m     )\n\u001b[1;32m    289\u001b[0m img_array: NdarrayOrTensor\n\u001b[0;32m--> 290\u001b[0m img_array, meta_data \u001b[38;5;241m=\u001b[39m \u001b[43mreader\u001b[49m\u001b[38;5;241;43m.\u001b[39;49m\u001b[43mget_data\u001b[49m\u001b[43m(\u001b[49m\u001b[43mimg\u001b[49m\u001b[43m)\u001b[49m\n\u001b[1;32m    291\u001b[0m img_array \u001b[38;5;241m=\u001b[39m convert_to_dst_type(img_array, dst\u001b[38;5;241m=\u001b[39mimg_array, dtype\u001b[38;5;241m=\u001b[39m\u001b[38;5;28mself\u001b[39m\u001b[38;5;241m.\u001b[39mdtype)[\u001b[38;5;241m0\u001b[39m]\n\u001b[1;32m    292\u001b[0m \u001b[38;5;28;01mif\u001b[39;00m \u001b[38;5;129;01mnot\u001b[39;00m \u001b[38;5;28misinstance\u001b[39m(meta_data, \u001b[38;5;28mdict\u001b[39m):\n",
      "File \u001b[0;32m/opt/conda/lib/python3.10/site-packages/monai/data/image_reader.py:937\u001b[0m, in \u001b[0;36mNibabelReader.get_data\u001b[0;34m(self, img)\u001b[0m\n\u001b[1;32m    935\u001b[0m header[MetaKeys\u001b[38;5;241m.\u001b[39mSPATIAL_SHAPE] \u001b[38;5;241m=\u001b[39m \u001b[38;5;28mself\u001b[39m\u001b[38;5;241m.\u001b[39m_get_spatial_shape(i)\n\u001b[1;32m    936\u001b[0m header[MetaKeys\u001b[38;5;241m.\u001b[39mSPACE] \u001b[38;5;241m=\u001b[39m SpaceKeys\u001b[38;5;241m.\u001b[39mRAS\n\u001b[0;32m--> 937\u001b[0m data \u001b[38;5;241m=\u001b[39m \u001b[38;5;28;43mself\u001b[39;49m\u001b[38;5;241;43m.\u001b[39;49m\u001b[43m_get_array_data\u001b[49m\u001b[43m(\u001b[49m\u001b[43mi\u001b[49m\u001b[43m)\u001b[49m\n\u001b[1;32m    938\u001b[0m \u001b[38;5;28;01mif\u001b[39;00m \u001b[38;5;28mself\u001b[39m\u001b[38;5;241m.\u001b[39msqueeze_non_spatial_dims:\n\u001b[1;32m    939\u001b[0m     \u001b[38;5;28;01mfor\u001b[39;00m d \u001b[38;5;129;01min\u001b[39;00m \u001b[38;5;28mrange\u001b[39m(\u001b[38;5;28mlen\u001b[39m(data\u001b[38;5;241m.\u001b[39mshape), \u001b[38;5;28mlen\u001b[39m(header[MetaKeys\u001b[38;5;241m.\u001b[39mSPATIAL_SHAPE]), \u001b[38;5;241m-\u001b[39m\u001b[38;5;241m1\u001b[39m):\n",
      "File \u001b[0;32m/opt/conda/lib/python3.10/site-packages/monai/data/image_reader.py:1011\u001b[0m, in \u001b[0;36mNibabelReader._get_array_data\u001b[0;34m(self, img)\u001b[0m\n\u001b[1;32m   1003\u001b[0m \u001b[38;5;28;01mdef\u001b[39;00m \u001b[38;5;21m_get_array_data\u001b[39m(\u001b[38;5;28mself\u001b[39m, img):\n\u001b[1;32m   1004\u001b[0m \u001b[38;5;250m    \u001b[39m\u001b[38;5;124;03m\"\"\"\u001b[39;00m\n\u001b[1;32m   1005\u001b[0m \u001b[38;5;124;03m    Get the raw array data of the image, converted to Numpy array.\u001b[39;00m\n\u001b[1;32m   1006\u001b[0m \n\u001b[0;32m   (...)\u001b[0m\n\u001b[1;32m   1009\u001b[0m \n\u001b[1;32m   1010\u001b[0m \u001b[38;5;124;03m    \"\"\"\u001b[39;00m\n\u001b[0;32m-> 1011\u001b[0m     \u001b[38;5;28;01mreturn\u001b[39;00m \u001b[43mnp\u001b[49m\u001b[38;5;241;43m.\u001b[39;49m\u001b[43masanyarray\u001b[49m\u001b[43m(\u001b[49m\u001b[43mimg\u001b[49m\u001b[38;5;241;43m.\u001b[39;49m\u001b[43mdataobj\u001b[49m\u001b[43m,\u001b[49m\u001b[43m \u001b[49m\u001b[43morder\u001b[49m\u001b[38;5;241;43m=\u001b[39;49m\u001b[38;5;124;43m\"\u001b[39;49m\u001b[38;5;124;43mC\u001b[39;49m\u001b[38;5;124;43m\"\u001b[39;49m\u001b[43m)\u001b[49m\n",
      "\u001b[0;31mKeyboardInterrupt\u001b[0m: "
     ]
    }
   ],
   "source": [
    "max_epochs = 50\n",
    "val_interval = 1\n",
    "best_metric = -1\n",
    "best_metric_epoch = -1\n",
    "epoch_loss_values = []\n",
    "metric_values = []\n",
    "post_pred = Compose([AsDiscrete(argmax=True, to_onehot=2)])\n",
    "post_label = Compose([AsDiscrete(to_onehot=2)])\n",
    "checkpoint_path = os.path.join(data_dir, \"checkpoint.pth\")\n",
    "\n",
    "if os.path.exists(checkpoint_path):\n",
    "    checkpoint = torch.load(checkpoint_path)\n",
    "    model.load_state_dict(checkpoint['model_state_dict'])\n",
    "    optimizer.load_state_dict(checkpoint['optimizer_state_dict'])\n",
    "    start_epoch = checkpoint['epoch']\n",
    "    best_metric = checkpoint['best_metric']\n",
    "    best_metric_epoch = checkpoint['best_metric_epoch']\n",
    "    epoch_loss_values = checkpoint['epoch_loss_values']\n",
    "    metric_values = checkpoint['metric_values']\n",
    "else:\n",
    "    start_epoch = 0\n",
    "\n",
    "for epoch in range(start_epoch,max_epochs):\n",
    "    print(\"-\" * 10)\n",
    "    print(f\"epoch {epoch + 1}/{max_epochs}\")\n",
    "    model.train()\n",
    "    epoch_loss = 0\n",
    "    step = 0\n",
    "    for batch_data in train_loader:\n",
    "        step += 1\n",
    "        inputs, labels = (\n",
    "            batch_data[\"image_petct\"].to(device),\n",
    "            batch_data[\"image_sg\"].to(device),\n",
    "        )\n",
    "        optimizer.zero_grad()\n",
    "        outputs = model(inputs)\n",
    "        loss = loss_function(outputs, labels)\n",
    "        loss.backward()\n",
    "        optimizer.step()\n",
    "        epoch_loss += loss.item()\n",
    "        print(f\"{step}/{len(train_ds) // train_loader.batch_size}, \" f\"train_loss: {loss.item():.4f}\")\n",
    "    epoch_loss /= step\n",
    "    epoch_loss_values.append(epoch_loss)\n",
    "    print(f\"epoch {epoch + 1} average loss: {epoch_loss:.4f}\")\n",
    "    if epoch % 6 == 0\n",
    "        torch.save({\n",
    "            'epoch': epoch + 1,\n",
    "            'model_state_dict': model.state_dict(),\n",
    "            'optimizer_state_dict': optimizer.state_dict(),\n",
    "            'best_metric': best_metric,\n",
    "            'best_metric_epoch': best_metric_epoch,\n",
    "            'epoch_loss_values': epoch_loss_values,\n",
    "            'metric_values': metric_values\n",
    "        }, checkpoint_path)\n",
    "\n",
    "    if (epoch + 1) % val_interval == 0:\n",
    "        model.eval()\n",
    "        with torch.no_grad():\n",
    "            for val_data in val_loader:\n",
    "                val_inputs, val_labels = (\n",
    "                    val_data[\"image_petct\"].to(device),\n",
    "                    val_data[\"image_sg\"].to(device),\n",
    "                )\n",
    "                roi_size = (160, 160, 160)\n",
    "                sw_batch_size = 4\n",
    "                val_outputs = sliding_window_inference(val_inputs, roi_size, sw_batch_size, model)\n",
    "                val_outputs = [post_pred(i) for i in decollate_batch(val_outputs)]\n",
    "                val_labels = [post_label(i) for i in decollate_batch(val_labels)]\n",
    "                # compute metric for current iteration\n",
    "                dice_metric(y_pred=val_outputs, y=val_labels)\n",
    "\n",
    "            # aggregate the final mean dice result\n",
    "            metric = dice_metric.aggregate().item()\n",
    "            # reset the status for next validation round\n",
    "            dice_metric.reset()\n",
    "\n",
    "            metric_values.append(metric)\n",
    "            if metric > best_metric:\n",
    "                best_metric = metric\n",
    "                best_metric_epoch = epoch + 1\n",
    "                torch.save(model.state_dict(), os.path.join(data_dir, \"best_metric_model.pth\"))\n",
    "                print(\"saved new best metric model\")\n",
    "            print(\n",
    "                f\"current epoch: {epoch + 1} current mean dice: {metric:.4f}\"\n",
    "                f\"\\nbest mean dice: {best_metric:.4f} \"\n",
    "                f\"at epoch: {best_metric_epoch}\"\n",
    "            )"
   ]
  },
  {
   "cell_type": "code",
   "execution_count": null,
   "id": "3b851619-4c8f-43a1-9c86-e15a015222c9",
   "metadata": {},
   "outputs": [],
   "source": [
    "print(\n",
    "    f\"train completed, best_metric: {best_metric:.4f} \"\n",
    "    f\"at epoch: {best_metric_epoch}\")\n"
   ]
  },
  {
   "cell_type": "code",
   "execution_count": null,
   "id": "fc0ea87a-f7bd-459a-8721-40668394a4cc",
   "metadata": {},
   "outputs": [],
   "source": [
    "import matplotlib.pyplot as plt\n",
    "\n",
    "plt.figure(\"train\", (12, 6))\n",
    "plt.subplot(1, 2, 1)\n",
    "plt.title(\"Epoch Average Loss\")\n",
    "x = [i + 1 for i in range(len(epoch_loss_values))]\n",
    "y = epoch_loss_values\n",
    "plt.xlabel(\"epoch\")\n",
    "plt.plot(x, y)\n",
    "plt.subplot(1, 2, 2)\n",
    "plt.title(\"Val Mean Dice\")\n",
    "x = [val_interval * (i + 1) for i in range(len(metric_values))]\n",
    "y = metric_values\n",
    "plt.xlabel(\"epoch\")\n",
    "plt.plot(x, y)\n",
    "plt.show()"
   ]
  },
  {
   "cell_type": "code",
   "execution_count": null,
   "id": "7a391793-db16-4b4e-af30-7fbcdd94194c",
   "metadata": {},
   "outputs": [],
   "source": [
    "model.load_state_dict(torch.load(os.path.join(data_dir, \"best_metric_model.pth\")))\n",
    "model.eval()\n",
    "with torch.no_grad():\n",
    "    for i, val_data in enumerate(val_loader):\n",
    "        roi_size = (160, 160, 160)\n",
    "        sw_batch_size = 4\n",
    "        val_outputs = sliding_window_inference(val_data[\"image_petct\"].to(device), roi_size, sw_batch_size, model)\n",
    "        # plot the slice [:, :, 80]\n",
    "        plt.figure(\"check\", (18, 6))\n",
    "        plt.subplot(1, 3, 1)\n",
    "        plt.title(f\"image {i}\")\n",
    "        plt.imshow(val_data[\"image_petct\"][0, 0, :, :, 80], cmap=\"gray\")\n",
    "        plt.subplot(1, 3, 2)\n",
    "        plt.title(f\"label {i}\")\n",
    "        plt.imshow(val_data[\"image_sg\"][0, 0, :, :, 80])\n",
    "        plt.subplot(1, 3, 3)\n",
    "        plt.title(f\"output {i}\")\n",
    "        plt.imshow(torch.argmax(val_outputs, dim=1).detach().cpu()[0, :, :, 80])\n",
    "        plt.show()\n",
    "        if i == 2:\n",
    "            break"
   ]
  }
 ],
 "metadata": {
  "kernelspec": {
   "display_name": "Python 3 (ipykernel)",
   "language": "python",
   "name": "python3"
  },
  "language_info": {
   "codemirror_mode": {
    "name": "ipython",
    "version": 3
   },
   "file_extension": ".py",
   "mimetype": "text/x-python",
   "name": "python",
   "nbconvert_exporter": "python",
   "pygments_lexer": "ipython3",
   "version": "3.9.12"
  }
 },
 "nbformat": 4,
 "nbformat_minor": 5
}
