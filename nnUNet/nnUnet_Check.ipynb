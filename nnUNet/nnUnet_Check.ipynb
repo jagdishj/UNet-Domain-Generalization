{
 "cells": [
  {
   "cell_type": "code",
   "execution_count": 1,
   "id": "7f1797bb-ba7b-42f8-8250-ecc08b249e6f",
   "metadata": {
    "tags": []
   },
   "outputs": [
    {
     "name": "stdout",
     "output_type": "stream",
     "text": [
      "Cuda_available?  True\n",
      "Name:  Tesla T4\n",
      "Device count:  1\n",
      "current device:  0\n",
      "Select device:  <torch.cuda.device object at 0x7f904833f820>\n",
      "get device name:  Tesla T4\n"
     ]
    }
   ],
   "source": [
    "import torch\n",
    "print(\"Cuda_available? \", torch.cuda.is_available())\n",
    "print(\"Name: \", torch.cuda.get_device_name(0))\n",
    "print(\"Device count: \", torch.cuda.device_count())\n",
    "print(\"current device: \", torch.cuda.current_device())\n",
    "print(\"Select device: \", torch.cuda.device(0))\n",
    "print(\"get device name: \",torch.cuda.get_device_name(0))\n",
    "device = torch.device('cuda' if torch.cuda.is_available() else 'cpu') #finally got the solution"
   ]
  },
  {
   "cell_type": "code",
   "execution_count": 2,
   "id": "038648df-93fb-4d6e-bb44-860d1e5355d2",
   "metadata": {
    "tags": []
   },
   "outputs": [],
   "source": [
    "data_dir = 'data/ZIP'"
   ]
  },
  {
   "cell_type": "code",
   "execution_count": 3,
   "id": "a6fba5f6-f8a0-4e95-9f34-186e91d71ac2",
   "metadata": {
    "tags": []
   },
   "outputs": [],
   "source": [
    "import glob\n",
    "import os"
   ]
  },
  {
   "cell_type": "code",
   "execution_count": 4,
   "id": "f7850164-009f-446e-9986-bba5dae2f9e7",
   "metadata": {
    "tags": []
   },
   "outputs": [],
   "source": [
    "images_pt = sorted(glob.glob(os.path.join(data_dir, 'PETCT*', '*', \"SUV*\")))\n",
    "images_ct = sorted(glob.glob(os.path.join(data_dir, 'PETCT*', '*', \"CTres*\")))\n",
    "images_sg = sorted(glob.glob(os.path.join(data_dir, 'PETCT*', '*', \"SEG*\")))\n",
    "data_dicts = [\n",
    "            {\"image_pt\": image_name_pt, \"image_ct\": image_name_ct, \"image_sg\": image_name_sg}\n",
    "            for image_name_pt, image_name_ct, image_name_sg in zip(images_pt, images_ct, images_sg)\n",
    "        ]\n",
    "keys = [\"image_pt\", \"image_ct\", \"image_sg\"]\n",
    "train_files, val_files = data_dicts[:70], data_dicts[70:]"
   ]
  },
  {
   "cell_type": "code",
   "execution_count": 6,
   "id": "da2d3564-d24a-44ed-a330-e4119b6fd96a",
   "metadata": {
    "tags": []
   },
   "outputs": [],
   "source": [
    "import shutil\n",
    "import os\n",
    "\n",
    "\n",
    "# Define your destination directories\n",
    "dest_dir_imagesTr = 'nnUNet_raw_data_base/Dataset001_PETCTDB/imagesTr'\n",
    "dest_dir_imagesTs = 'nnUNet_raw_data_base/Dataset001_PETCTDB/imagesTs'\n",
    "dest_dir_labelsTr = 'nnUNet_raw_data_base/Dataset001_PETCTDB/labelsTr'\n",
    "\n",
    "# Iterate over your data dictionary\n",
    "for i, patient_data in enumerate(data_dicts):\n",
    "    # Define the patient ID based on the index\n",
    "    patient_id = f\"patient{i:02d}\"\n",
    "\n",
    "    # Copy the PET and CT images to the imagesTr directory\n",
    "    shutil.copy(patient_data['image_pt'], os.path.join(dest_dir_imagesTr, f\"{patient_id}_0000.nii.gz\"))\n",
    "    shutil.copy(patient_data['image_ct'], os.path.join(dest_dir_imagesTr, f\"{patient_id}_0001.nii.gz\"))\n",
    "\n",
    "    # Copy the segmentation labels to the labelsTr directory\n",
    "    shutil.copy(patient_data['image_sg'], os.path.join(dest_dir_labelsTr, f\"{patient_id}.nii.gz\"))"
   ]
  },
  {
   "cell_type": "code",
   "execution_count": 7,
   "id": "37b08094-5b7c-469c-b411-72a227b45b84",
   "metadata": {
    "tags": []
   },
   "outputs": [
    {
     "name": "stdout",
     "output_type": "stream",
     "text": [
      "Cloning into 'nnUNet'...\n",
      "remote: Enumerating objects: 10831, done.\u001b[K\n",
      "remote: Counting objects: 100% (10831/10831), done.\u001b[K\n",
      "remote: Compressing objects: 100% (2686/2686), done.\u001b[K\n",
      "remote: Total 10831 (delta 8329), reused 10380 (delta 8122), pack-reused 0\u001b[K\n",
      "Receiving objects: 100% (10831/10831), 5.31 MiB | 30.89 MiB/s, done.\n",
      "Resolving deltas: 100% (8329/8329), done.\n"
     ]
    }
   ],
   "source": [
    "!git clone https://github.com/MIC-DKFZ/nnUNet.git"
   ]
  },
  {
   "cell_type": "code",
   "execution_count": 7,
   "id": "b40a4d3f-a1b8-49e4-b58d-5c7bc6d9ff1a",
   "metadata": {
    "tags": []
   },
   "outputs": [
    {
     "name": "stdout",
     "output_type": "stream",
     "text": [
      "Looking in indexes: https://pypi.org/simple, https://pip.repos.neuron.amazonaws.com\n",
      "Obtaining file:///home/ec2-user/SageMaker/nnUNet\n",
      "  Installing build dependencies ... \u001b[?25ldone\n",
      "\u001b[?25h  Checking if build backend supports build_editable ... \u001b[?25ldone\n",
      "\u001b[?25h  Getting requirements to build editable ... \u001b[?25ldone\n",
      "\u001b[?25h  Preparing editable metadata (pyproject.toml) ... \u001b[?25ldone\n",
      "\u001b[?25hRequirement already satisfied: torch>=2.0.0 in /home/ec2-user/anaconda3/envs/pytorch_p310/lib/python3.10/site-packages (from nnunetv2==2.1.2) (2.0.0)\n",
      "Collecting acvl-utils>=0.2 (from nnunetv2==2.1.2)\n",
      "  Downloading acvl_utils-0.2.tar.gz (18 kB)\n",
      "  Preparing metadata (setup.py) ... \u001b[?25ldone\n",
      "\u001b[?25hCollecting dynamic-network-architectures>=0.2 (from nnunetv2==2.1.2)\n",
      "  Downloading dynamic_network_architectures-0.2.tar.gz (20 kB)\n",
      "  Preparing metadata (setup.py) ... \u001b[?25ldone\n",
      "\u001b[?25hRequirement already satisfied: tqdm in /home/ec2-user/anaconda3/envs/pytorch_p310/lib/python3.10/site-packages (from nnunetv2==2.1.2) (4.65.0)\n",
      "Collecting dicom2nifti (from nnunetv2==2.1.2)\n",
      "  Downloading dicom2nifti-2.4.8-py3-none-any.whl (43 kB)\n",
      "\u001b[2K     \u001b[90m━━━━━━━━━━━━━━━━━━━━━━━━━━━━━━━━━━━━━━━━\u001b[0m \u001b[32m43.6/43.6 kB\u001b[0m \u001b[31m13.5 MB/s\u001b[0m eta \u001b[36m0:00:00\u001b[0m\n",
      "\u001b[?25hRequirement already satisfied: scipy in /home/ec2-user/anaconda3/envs/pytorch_p310/lib/python3.10/site-packages (from nnunetv2==2.1.2) (1.10.1)\n",
      "Collecting batchgenerators>=0.25 (from nnunetv2==2.1.2)\n",
      "  Downloading batchgenerators-0.25.tar.gz (61 kB)\n",
      "\u001b[2K     \u001b[90m━━━━━━━━━━━━━━━━━━━━━━━━━━━━━━━━━━━━━━━━\u001b[0m \u001b[32m61.7/61.7 kB\u001b[0m \u001b[31m14.6 MB/s\u001b[0m eta \u001b[36m0:00:00\u001b[0m\n",
      "\u001b[?25h  Preparing metadata (setup.py) ... \u001b[?25ldone\n",
      "\u001b[?25hRequirement already satisfied: numpy in /home/ec2-user/anaconda3/envs/pytorch_p310/lib/python3.10/site-packages (from nnunetv2==2.1.2) (1.24.3)\n",
      "Requirement already satisfied: scikit-learn in /home/ec2-user/anaconda3/envs/pytorch_p310/lib/python3.10/site-packages (from nnunetv2==2.1.2) (1.2.2)\n",
      "Collecting scikit-image>=0.19.3 (from nnunetv2==2.1.2)\n",
      "  Downloading scikit_image-0.21.0-cp310-cp310-manylinux_2_17_x86_64.manylinux2014_x86_64.whl (13.8 MB)\n",
      "\u001b[2K     \u001b[90m━━━━━━━━━━━━━━━━━━━━━━━━━━━━━━━━━━━━━━━━\u001b[0m \u001b[32m13.8/13.8 MB\u001b[0m \u001b[31m49.1 MB/s\u001b[0m eta \u001b[36m0:00:00\u001b[0m00:01\u001b[0m00:01\u001b[0m\n",
      "\u001b[?25hCollecting SimpleITK>=2.2.1 (from nnunetv2==2.1.2)\n",
      "  Downloading SimpleITK-2.2.1-cp310-cp310-manylinux_2_17_x86_64.manylinux2014_x86_64.whl (52.7 MB)\n",
      "\u001b[2K     \u001b[90m━━━━━━━━━━━━━━━━━━━━━━━━━━━━━━━━━━━━━━━━\u001b[0m \u001b[32m52.7/52.7 MB\u001b[0m \u001b[31m14.9 MB/s\u001b[0m eta \u001b[36m0:00:00\u001b[0m00:01\u001b[0m00:01\u001b[0m\n",
      "\u001b[?25hRequirement already satisfied: pandas in /home/ec2-user/anaconda3/envs/pytorch_p310/lib/python3.10/site-packages (from nnunetv2==2.1.2) (1.5.3)\n",
      "Collecting graphviz (from nnunetv2==2.1.2)\n",
      "\u001b[33m  WARNING: Retrying (Retry(total=4, connect=None, read=None, redirect=None, status=None)) after connection broken by 'ProtocolError('Connection aborted.', RemoteDisconnected('Remote end closed connection without response'))': /packages/de/5e/fcbb22c68208d39edff467809d06c9d81d7d27426460ebc598e55130c1aa/graphviz-0.20.1-py3-none-any.whl\u001b[0m\u001b[33m\n",
      "\u001b[0m  Downloading graphviz-0.20.1-py3-none-any.whl (47 kB)\n",
      "\u001b[2K     \u001b[90m━━━━━━━━━━━━━━━━━━━━━━━━━━━━━━━━━━━━━━━━\u001b[0m \u001b[32m47.0/47.0 kB\u001b[0m \u001b[31m5.9 MB/s\u001b[0m eta \u001b[36m0:00:00\u001b[0m\n",
      "\u001b[?25hCollecting tifffile (from nnunetv2==2.1.2)\n",
      "  Downloading tifffile-2023.8.12-py3-none-any.whl (220 kB)\n",
      "\u001b[2K     \u001b[90m━━━━━━━━━━━━━━━━━━━━━━━━━━━━━━━━━━━━━━\u001b[0m \u001b[32m221.0/221.0 kB\u001b[0m \u001b[31m25.1 MB/s\u001b[0m eta \u001b[36m0:00:00\u001b[0m\n",
      "\u001b[?25hRequirement already satisfied: requests in /home/ec2-user/anaconda3/envs/pytorch_p310/lib/python3.10/site-packages (from nnunetv2==2.1.2) (2.29.0)\n",
      "Collecting nibabel (from nnunetv2==2.1.2)\n",
      "  Downloading nibabel-5.1.0-py3-none-any.whl (3.3 MB)\n",
      "\u001b[2K     \u001b[90m━━━━━━━━━━━━━━━━━━━━━━━━━━━━━━━━━━━━━━━━\u001b[0m \u001b[32m3.3/3.3 MB\u001b[0m \u001b[31m32.7 MB/s\u001b[0m eta \u001b[36m0:00:00\u001b[0m:00:01\u001b[0m\n",
      "\u001b[?25hRequirement already satisfied: matplotlib in /home/ec2-user/anaconda3/envs/pytorch_p310/lib/python3.10/site-packages (from nnunetv2==2.1.2) (3.7.1)\n",
      "Requirement already satisfied: seaborn in /home/ec2-user/anaconda3/envs/pytorch_p310/lib/python3.10/site-packages (from nnunetv2==2.1.2) (0.12.2)\n",
      "Collecting imagecodecs (from nnunetv2==2.1.2)\n",
      "  Downloading imagecodecs-2023.8.12-cp310-cp310-manylinux_2_17_x86_64.manylinux2014_x86_64.whl (34.8 MB)\n",
      "\u001b[2K     \u001b[90m━━━━━━━━━━━━━━━━━━━━━━━━━━━━━━━━━━━━━━━━\u001b[0m \u001b[32m34.8/34.8 MB\u001b[0m \u001b[31m62.7 MB/s\u001b[0m eta \u001b[36m0:00:00\u001b[0m00:01\u001b[0m00:01\u001b[0m\n",
      "\u001b[?25hCollecting yacs (from nnunetv2==2.1.2)\n",
      "  Downloading yacs-0.1.8-py3-none-any.whl (14 kB)\n",
      "Collecting connected-components-3d (from acvl-utils>=0.2->nnunetv2==2.1.2)\n",
      "  Downloading connected_components_3d-3.12.2-cp310-cp310-manylinux_2_17_x86_64.manylinux2014_x86_64.whl (3.1 MB)\n",
      "\u001b[2K     \u001b[90m━━━━━━━━━━━━━━━━━━━━━━━━━━━━━━━━━━━━━━━━\u001b[0m \u001b[32m3.1/3.1 MB\u001b[0m \u001b[31m156.7 MB/s\u001b[0m eta \u001b[36m0:00:00\u001b[0m\n",
      "\u001b[?25hRequirement already satisfied: pillow>=7.1.2 in /home/ec2-user/anaconda3/envs/pytorch_p310/lib/python3.10/site-packages (from batchgenerators>=0.25->nnunetv2==2.1.2) (9.5.0)\n",
      "Collecting future (from batchgenerators>=0.25->nnunetv2==2.1.2)\n",
      "  Downloading future-0.18.3.tar.gz (840 kB)\n",
      "\u001b[2K     \u001b[90m━━━━━━━━━━━━━━━━━━━━━━━━━━━━━━━━━━━━━━\u001b[0m \u001b[32m840.9/840.9 kB\u001b[0m \u001b[31m20.9 MB/s\u001b[0m eta \u001b[36m0:00:00\u001b[0m00:01\u001b[0m\n",
      "\u001b[?25h  Preparing metadata (setup.py) ... \u001b[?25ldone\n",
      "\u001b[?25hCollecting unittest2 (from batchgenerators>=0.25->nnunetv2==2.1.2)\n",
      "  Downloading unittest2-1.1.0-py2.py3-none-any.whl (96 kB)\n",
      "\u001b[2K     \u001b[90m━━━━━━━━━━━━━━━━━━━━━━━━━━━━━━━━━━━━━━━━\u001b[0m \u001b[32m96.4/96.4 kB\u001b[0m \u001b[31m3.7 MB/s\u001b[0m eta \u001b[36m0:00:00\u001b[0m\n",
      "\u001b[?25hRequirement already satisfied: threadpoolctl in /home/ec2-user/anaconda3/envs/pytorch_p310/lib/python3.10/site-packages (from batchgenerators>=0.25->nnunetv2==2.1.2) (3.1.0)\n",
      "Requirement already satisfied: networkx>=2.8 in /home/ec2-user/anaconda3/envs/pytorch_p310/lib/python3.10/site-packages (from scikit-image>=0.19.3->nnunetv2==2.1.2) (3.1)\n",
      "Requirement already satisfied: imageio>=2.27 in /home/ec2-user/anaconda3/envs/pytorch_p310/lib/python3.10/site-packages (from scikit-image>=0.19.3->nnunetv2==2.1.2) (2.28.1)\n",
      "Collecting PyWavelets>=1.1.1 (from scikit-image>=0.19.3->nnunetv2==2.1.2)\n",
      "  Downloading PyWavelets-1.4.1-cp310-cp310-manylinux_2_17_x86_64.manylinux2014_x86_64.whl (6.8 MB)\n",
      "\u001b[2K     \u001b[90m━━━━━━━━━━━━━━━━━━━━━━━━━━━━━━━━━━━━━━━━\u001b[0m \u001b[32m6.8/6.8 MB\u001b[0m \u001b[31m140.5 MB/s\u001b[0m eta \u001b[36m0:00:00\u001b[0m00:01\u001b[0m\n",
      "\u001b[?25hRequirement already satisfied: packaging>=21 in /home/ec2-user/anaconda3/envs/pytorch_p310/lib/python3.10/site-packages (from scikit-image>=0.19.3->nnunetv2==2.1.2) (21.3)\n",
      "Collecting lazy_loader>=0.2 (from scikit-image>=0.19.3->nnunetv2==2.1.2)\n",
      "  Downloading lazy_loader-0.3-py3-none-any.whl (9.1 kB)\n",
      "Requirement already satisfied: filelock in /home/ec2-user/anaconda3/envs/pytorch_p310/lib/python3.10/site-packages (from torch>=2.0.0->nnunetv2==2.1.2) (3.12.0)\n",
      "Requirement already satisfied: typing-extensions in /home/ec2-user/anaconda3/envs/pytorch_p310/lib/python3.10/site-packages (from torch>=2.0.0->nnunetv2==2.1.2) (4.5.0)\n",
      "Requirement already satisfied: sympy in /home/ec2-user/anaconda3/envs/pytorch_p310/lib/python3.10/site-packages (from torch>=2.0.0->nnunetv2==2.1.2) (1.11.1)\n",
      "Requirement already satisfied: jinja2 in /home/ec2-user/anaconda3/envs/pytorch_p310/lib/python3.10/site-packages (from torch>=2.0.0->nnunetv2==2.1.2) (3.1.2)\n",
      "Collecting pydicom>=2.2.0 (from dicom2nifti->nnunetv2==2.1.2)\n",
      "  Downloading pydicom-2.4.2-py3-none-any.whl (1.8 MB)\n",
      "\u001b[2K     \u001b[90m━━━━━━━━━━━━━━━━━━━━━━━━━━━━━━━━━━━━━━━━\u001b[0m \u001b[32m1.8/1.8 MB\u001b[0m \u001b[31m23.8 MB/s\u001b[0m eta \u001b[36m0:00:00\u001b[0m:00:01\u001b[0m\n",
      "\u001b[?25hCollecting python-gdcm (from dicom2nifti->nnunetv2==2.1.2)\n",
      "  Downloading python_gdcm-3.0.22-cp310-cp310-manylinux_2_17_x86_64.manylinux2014_x86_64.whl (13.0 MB)\n",
      "\u001b[2K     \u001b[90m━━━━━━━━━━━━━━━━━━━━━━━━━━━━━━━━━━━━━━━━\u001b[0m \u001b[32m13.0/13.0 MB\u001b[0m \u001b[31m52.9 MB/s\u001b[0m eta \u001b[36m0:00:00\u001b[0m00:01\u001b[0m00:01\u001b[0m\n",
      "\u001b[?25hRequirement already satisfied: contourpy>=1.0.1 in /home/ec2-user/anaconda3/envs/pytorch_p310/lib/python3.10/site-packages (from matplotlib->nnunetv2==2.1.2) (1.0.7)\n",
      "Requirement already satisfied: cycler>=0.10 in /home/ec2-user/anaconda3/envs/pytorch_p310/lib/python3.10/site-packages (from matplotlib->nnunetv2==2.1.2) (0.11.0)\n",
      "Requirement already satisfied: fonttools>=4.22.0 in /home/ec2-user/anaconda3/envs/pytorch_p310/lib/python3.10/site-packages (from matplotlib->nnunetv2==2.1.2) (4.39.3)\n",
      "Requirement already satisfied: kiwisolver>=1.0.1 in /home/ec2-user/anaconda3/envs/pytorch_p310/lib/python3.10/site-packages (from matplotlib->nnunetv2==2.1.2) (1.4.4)\n",
      "Requirement already satisfied: pyparsing>=2.3.1 in /home/ec2-user/anaconda3/envs/pytorch_p310/lib/python3.10/site-packages (from matplotlib->nnunetv2==2.1.2) (3.0.9)\n",
      "Requirement already satisfied: python-dateutil>=2.7 in /home/ec2-user/anaconda3/envs/pytorch_p310/lib/python3.10/site-packages (from matplotlib->nnunetv2==2.1.2) (2.8.2)\n",
      "Requirement already satisfied: pytz>=2020.1 in /home/ec2-user/anaconda3/envs/pytorch_p310/lib/python3.10/site-packages (from pandas->nnunetv2==2.1.2) (2023.3)\n",
      "Requirement already satisfied: charset-normalizer<4,>=2 in /home/ec2-user/anaconda3/envs/pytorch_p310/lib/python3.10/site-packages (from requests->nnunetv2==2.1.2) (3.1.0)\n",
      "Requirement already satisfied: idna<4,>=2.5 in /home/ec2-user/anaconda3/envs/pytorch_p310/lib/python3.10/site-packages (from requests->nnunetv2==2.1.2) (3.4)\n",
      "Requirement already satisfied: urllib3<1.27,>=1.21.1 in /home/ec2-user/anaconda3/envs/pytorch_p310/lib/python3.10/site-packages (from requests->nnunetv2==2.1.2) (1.26.14)\n",
      "Requirement already satisfied: certifi>=2017.4.17 in /home/ec2-user/anaconda3/envs/pytorch_p310/lib/python3.10/site-packages (from requests->nnunetv2==2.1.2) (2023.5.7)\n",
      "Requirement already satisfied: joblib>=1.1.1 in /home/ec2-user/anaconda3/envs/pytorch_p310/lib/python3.10/site-packages (from scikit-learn->nnunetv2==2.1.2) (1.2.0)\n",
      "Requirement already satisfied: PyYAML in /home/ec2-user/anaconda3/envs/pytorch_p310/lib/python3.10/site-packages (from yacs->nnunetv2==2.1.2) (5.4.1)\n",
      "Requirement already satisfied: six>=1.5 in /home/ec2-user/anaconda3/envs/pytorch_p310/lib/python3.10/site-packages (from python-dateutil>=2.7->matplotlib->nnunetv2==2.1.2) (1.16.0)\n",
      "Requirement already satisfied: MarkupSafe>=2.0 in /home/ec2-user/anaconda3/envs/pytorch_p310/lib/python3.10/site-packages (from jinja2->torch>=2.0.0->nnunetv2==2.1.2) (2.1.2)\n",
      "Requirement already satisfied: mpmath>=0.19 in /home/ec2-user/anaconda3/envs/pytorch_p310/lib/python3.10/site-packages (from sympy->torch>=2.0.0->nnunetv2==2.1.2) (1.3.0)\n",
      "Collecting argparse (from unittest2->batchgenerators>=0.25->nnunetv2==2.1.2)\n",
      "  Downloading argparse-1.4.0-py2.py3-none-any.whl (23 kB)\n",
      "Collecting traceback2 (from unittest2->batchgenerators>=0.25->nnunetv2==2.1.2)\n",
      "  Downloading traceback2-1.4.0-py2.py3-none-any.whl (16 kB)\n",
      "Collecting linecache2 (from traceback2->unittest2->batchgenerators>=0.25->nnunetv2==2.1.2)\n",
      "  Downloading linecache2-1.0.0-py2.py3-none-any.whl (12 kB)\n",
      "Building wheels for collected packages: nnunetv2, acvl-utils, batchgenerators, dynamic-network-architectures, future\n",
      "  Building editable for nnunetv2 (pyproject.toml) ... \u001b[?25ldone\n",
      "\u001b[?25h  Created wheel for nnunetv2: filename=nnunetv2-2.1.2-0.editable-py3-none-any.whl size=16049 sha256=9ba74c7a478bb12ef6493584cc4ee003b1abb6f5dff2f33684ccfadbcce71cc7\n",
      "  Stored in directory: /tmp/pip-ephem-wheel-cache-vfnaceut/wheels/c7/7f/b8/4ef723d9b5957e415b89195ef43abf4221d05405cf96a54f95\n",
      "  Building wheel for acvl-utils (setup.py) ... \u001b[?25ldone\n",
      "\u001b[?25h  Created wheel for acvl-utils: filename=acvl_utils-0.2-py3-none-any.whl size=22438 sha256=0dcc0ab0a05cec5724028ccc9bd9f0d0c8071aa3d3f964c9639f629108df3ea5\n",
      "  Stored in directory: /home/ec2-user/.cache/pip/wheels/ad/f0/84/52e8897591e66339bd2796681b9540b6c5e453c1461fa92a9e\n",
      "  Building wheel for batchgenerators (setup.py) ... \u001b[?25ldone\n",
      "\u001b[?25h  Created wheel for batchgenerators: filename=batchgenerators-0.25-py3-none-any.whl size=89009 sha256=180ec12eeb43e95d6372574c4c00ecc148b6685c919915df4cc13c34cb6644b7\n",
      "  Stored in directory: /home/ec2-user/.cache/pip/wheels/9e/b0/1b/40912fb58eb167b86cbc444ddb2e6ba382b248215295f932e2\n",
      "  Building wheel for dynamic-network-architectures (setup.py) ... \u001b[?25ldone\n",
      "\u001b[?25h  Created wheel for dynamic-network-architectures: filename=dynamic_network_architectures-0.2-py3-none-any.whl size=27248 sha256=2a9e84ed8951e2b66a39186ec0e3c170d79c3e5692ec982b335db34fd1c27a0a\n",
      "  Stored in directory: /home/ec2-user/.cache/pip/wheels/39/83/85/2ea6c18cc7d707fcd911586e8448ff8a9da1c0274e337f0e49\n",
      "  Building wheel for future (setup.py) ... \u001b[?25ldone\n",
      "\u001b[?25h  Created wheel for future: filename=future-0.18.3-py3-none-any.whl size=492022 sha256=7922ded0aa99fb6a55b4445ac3b37e1067220427ee1a6af10e2c3931a3c1a087\n",
      "  Stored in directory: /home/ec2-user/.cache/pip/wheels/5e/a9/47/f118e66afd12240e4662752cc22cefae5d97275623aa8ef57d\n",
      "Successfully built nnunetv2 acvl-utils batchgenerators dynamic-network-architectures future\n",
      "Installing collected packages: SimpleITK, linecache2, argparse, yacs, traceback2, tifffile, PyWavelets, python-gdcm, pydicom, lazy_loader, imagecodecs, graphviz, future, connected-components-3d, unittest2, scikit-image, nibabel, dynamic-network-architectures, dicom2nifti, batchgenerators, acvl-utils, nnunetv2\n",
      "Successfully installed PyWavelets-1.4.1 SimpleITK-2.2.1 acvl-utils-0.2 argparse-1.4.0 batchgenerators-0.25 connected-components-3d-3.12.2 dicom2nifti-2.4.8 dynamic-network-architectures-0.2 future-0.18.3 graphviz-0.20.1 imagecodecs-2023.8.12 lazy_loader-0.3 linecache2-1.0.0 nibabel-5.1.0 nnunetv2-2.1.2 pydicom-2.4.2 python-gdcm-3.0.22 scikit-image-0.21.0 tifffile-2023.8.12 traceback2-1.4.0 unittest2-1.1.0 yacs-0.1.8\n"
     ]
    }
   ],
   "source": [
    "!pip3 install -e nnUNet"
   ]
  },
  {
   "cell_type": "code",
   "execution_count": 5,
   "id": "e42aabf1-a252-4d71-b77e-ac0ae58d6872",
   "metadata": {
    "tags": []
   },
   "outputs": [],
   "source": [
    "import os\n",
    "os.environ['nnUNet_raw'] ='nnUNet_raw_data_base'\n",
    "os.environ['nnUNet_preprocessed'] ='nnUNet_preprocessed'\n",
    "os.environ['nnUNet_results'] ='RESULTS_FOLDER'"
   ]
  },
  {
   "cell_type": "code",
   "execution_count": 19,
   "id": "d8b750f4-5e3a-49b7-abf0-85ef39341a7b",
   "metadata": {
    "tags": []
   },
   "outputs": [
    {
     "name": "stdout",
     "output_type": "stream",
     "text": [
      "Fingerprint extraction...\n",
      "Dataset013_PETCTDB\n",
      "Using <class 'nnunetv2.imageio.simpleitk_reader_writer.SimpleITKIO'> as reader/writer\n",
      "\n",
      "####################\n",
      "verify_dataset_integrity Done. \n",
      "If you didn't see any error messages then your dataset is most likely OK!\n",
      "####################\n",
      "\n",
      "Using <class 'nnunetv2.imageio.simpleitk_reader_writer.SimpleITKIO'> as reader/writer\n",
      "100%|█████████████████████████████████████████████| 6/6 [00:38<00:00,  6.34s/it]\n",
      "Experiment planning...\n",
      "Attempting to find 3d_lowres config. \n",
      "Current spacing: [3.09       2.09751271 2.09751271]. \n",
      "Current patch size: [112 160 128]. \n",
      "Current median shape: [306.31067961 388.34951456 388.34951456]\n",
      "Attempting to find 3d_lowres config. \n",
      "Current spacing: [3.1827     2.16043809 2.16043809]. \n",
      "Current patch size: [112 160 128]. \n",
      "Current median shape: [297.38900933 377.03836365 377.03836365]\n",
      "Attempting to find 3d_lowres config. \n",
      "Current spacing: [3.278181   2.22525123 2.22525123]. \n",
      "Current patch size: [112 160 128]. \n",
      "Current median shape: [288.72719353 366.05666374 366.05666374]\n",
      "Attempting to find 3d_lowres config. \n",
      "Current spacing: [3.37652643 2.29200877 2.29200877]. \n",
      "Current patch size: [112 160 128]. \n",
      "Current median shape: [280.31766362 355.39481917 355.39481917]\n",
      "Attempting to find 3d_lowres config. \n",
      "Current spacing: [3.47782222 2.36076903 2.36076903]. \n",
      "Current patch size: [112 160 128]. \n",
      "Current median shape: [272.15307147 345.04351375 345.04351375]\n",
      "Attempting to find 3d_lowres config. \n",
      "Current spacing: [3.58215689 2.43159211 2.43159211]. \n",
      "Current patch size: [112 160 128]. \n",
      "Current median shape: [264.22628298 334.99370267 334.99370267]\n",
      "Attempting to find 3d_lowres config. \n",
      "Current spacing: [3.6896216  2.50453987 2.50453987]. \n",
      "Current patch size: [112 160 128]. \n",
      "Current median shape: [256.53037183 325.23660454 325.23660454]\n",
      "Attempting to find 3d_lowres config. \n",
      "Current spacing: [3.80031024 2.57967606 2.57967606]. \n",
      "Current patch size: [112 160 128]. \n",
      "Current median shape: [249.05861343 315.76369373 315.76369373]\n",
      "Attempting to find 3d_lowres config. \n",
      "Current spacing: [3.91431955 2.65706635 2.65706635]. \n",
      "Current patch size: [112 160 128]. \n",
      "Current median shape: [241.80447905 306.56669294 306.56669294]\n",
      "Attempting to find 3d_lowres config. \n",
      "Current spacing: [4.03174914 2.73677834 2.73677834]. \n",
      "Current patch size: [112 160 128]. \n",
      "Current median shape: [234.76163015 297.63756596 297.63756596]\n",
      "Attempting to find 3d_lowres config. \n",
      "Current spacing: [4.15270161 2.81888169 2.81888169]. \n",
      "Current patch size: [112 160 128]. \n",
      "Current median shape: [227.92391277 288.96851064 288.96851064]\n",
      "Attempting to find 3d_lowres config. \n",
      "Current spacing: [4.27728266 2.90344814 2.90344814]. \n",
      "Current patch size: [112 160 128]. \n",
      "Current median shape: [221.2853522  280.55195208 280.55195208]\n",
      "Attempting to find 3d_lowres config. \n",
      "Current spacing: [4.40560114 2.99055158 2.99055158]. \n",
      "Current patch size: [112 160 128]. \n",
      "Current median shape: [214.84014777 272.380536   272.380536  ]\n",
      "Attempting to find 3d_lowres config. \n",
      "Current spacing: [4.53776917 3.08026813 3.08026813]. \n",
      "Current patch size: [112 160 128]. \n",
      "Current median shape: [208.58266774 264.44712233 264.44712233]\n",
      "Attempting to find 3d_lowres config. \n",
      "Current spacing: [4.67390225 3.17267617 3.17267617]. \n",
      "Current patch size: [112 160 128]. \n",
      "Current median shape: [202.5074444  256.74477896 256.74477896]\n",
      "Attempting to find 3d_lowres config. \n",
      "Current spacing: [4.81411932 3.26785646 3.26785646]. \n",
      "Current patch size: [112 160 128]. \n",
      "Current median shape: [196.60916932 249.26677569 249.26677569]\n",
      "Attempting to find 3d_lowres config. \n",
      "Current spacing: [4.9585429  3.36589215 3.36589215]. \n",
      "Current patch size: [112 160 128]. \n",
      "Current median shape: [190.88268866 242.00657834 242.00657834]\n",
      "Attempting to find 3d_lowres config. \n",
      "Current spacing: [5.10729918 3.46686892 3.46686892]. \n",
      "Current patch size: [112 160 128]. \n",
      "Current median shape: [185.3229987  234.95784305 234.95784305]\n",
      "Attempting to find 3d_lowres config. \n",
      "Current spacing: [5.26051816 3.57087498 3.57087498]. \n",
      "Current patch size: [112 160 128]. \n",
      "Current median shape: [179.92524146 228.11441072 228.11441072]\n",
      "Attempting to find 3d_lowres config. \n",
      "Current spacing: [5.4183337  3.67800123 3.67800123]. \n",
      "Current patch size: [112 160 128]. \n",
      "Current median shape: [174.68470045 221.47030167 221.47030167]\n",
      "2D U-Net configuration:\n",
      "{'data_identifier': 'nnUNetPlans_2d', 'preprocessor_name': 'DefaultPreprocessor', 'batch_size': 16, 'patch_size': array([448, 448]), 'median_image_size_in_voxels': array([400., 400.]), 'spacing': array([2.03642011, 2.03642011]), 'normalization_schemes': ['ZScoreNormalization', 'CTNormalization'], 'use_mask_for_norm': [False, False], 'UNet_class_name': 'PlainConvUNet', 'UNet_base_num_features': 32, 'n_conv_per_stage_encoder': (2, 2, 2, 2, 2, 2, 2), 'n_conv_per_stage_decoder': (2, 2, 2, 2, 2, 2), 'num_pool_per_axis': [6, 6], 'pool_op_kernel_sizes': [[1, 1], [2, 2], [2, 2], [2, 2], [2, 2], [2, 2], [2, 2]], 'conv_kernel_sizes': [[3, 3], [3, 3], [3, 3], [3, 3], [3, 3], [3, 3], [3, 3]], 'unet_max_num_features': 512, 'resampling_fn_data': 'resample_data_or_seg_to_shape', 'resampling_fn_seg': 'resample_data_or_seg_to_shape', 'resampling_fn_data_kwargs': {'is_seg': False, 'order': 3, 'order_z': 0, 'force_separate_z': None}, 'resampling_fn_seg_kwargs': {'is_seg': True, 'order': 1, 'order_z': 0, 'force_separate_z': None}, 'resampling_fn_probabilities': 'resample_data_or_seg_to_shape', 'resampling_fn_probabilities_kwargs': {'is_seg': False, 'order': 1, 'order_z': 0, 'force_separate_z': None}, 'batch_dice': True}\n",
      "\n",
      "Using <class 'nnunetv2.imageio.simpleitk_reader_writer.SimpleITKIO'> as reader/writer\n",
      "3D lowres U-Net configuration:\n",
      "{'data_identifier': 'nnUNetPlans_3d_lowres', 'preprocessor_name': 'DefaultPreprocessor', 'batch_size': 2, 'patch_size': array([112, 160, 128]), 'median_image_size_in_voxels': [175, 221, 221], 'spacing': array([5.4183337 , 3.67800123, 3.67800123]), 'normalization_schemes': ['ZScoreNormalization', 'CTNormalization'], 'use_mask_for_norm': [False, False], 'UNet_class_name': 'PlainConvUNet', 'UNet_base_num_features': 32, 'n_conv_per_stage_encoder': (2, 2, 2, 2, 2, 2), 'n_conv_per_stage_decoder': (2, 2, 2, 2, 2), 'num_pool_per_axis': [4, 5, 5], 'pool_op_kernel_sizes': [[1, 1, 1], [2, 2, 2], [2, 2, 2], [2, 2, 2], [2, 2, 2], [1, 2, 2]], 'conv_kernel_sizes': [[3, 3, 3], [3, 3, 3], [3, 3, 3], [3, 3, 3], [3, 3, 3], [3, 3, 3]], 'unet_max_num_features': 320, 'resampling_fn_data': 'resample_data_or_seg_to_shape', 'resampling_fn_seg': 'resample_data_or_seg_to_shape', 'resampling_fn_data_kwargs': {'is_seg': False, 'order': 3, 'order_z': 0, 'force_separate_z': None}, 'resampling_fn_seg_kwargs': {'is_seg': True, 'order': 1, 'order_z': 0, 'force_separate_z': None}, 'resampling_fn_probabilities': 'resample_data_or_seg_to_shape', 'resampling_fn_probabilities_kwargs': {'is_seg': False, 'order': 1, 'order_z': 0, 'force_separate_z': None}, 'batch_dice': False, 'next_stage': '3d_cascade_fullres'}\n",
      "\n",
      "3D fullres U-Net configuration:\n",
      "{'data_identifier': 'nnUNetPlans_3d_fullres', 'preprocessor_name': 'DefaultPreprocessor', 'batch_size': 2, 'patch_size': array([112, 160, 128]), 'median_image_size_in_voxels': array([315.5, 400. , 400. ]), 'spacing': array([3.        , 2.03642011, 2.03642011]), 'normalization_schemes': ['ZScoreNormalization', 'CTNormalization'], 'use_mask_for_norm': [False, False], 'UNet_class_name': 'PlainConvUNet', 'UNet_base_num_features': 32, 'n_conv_per_stage_encoder': (2, 2, 2, 2, 2, 2), 'n_conv_per_stage_decoder': (2, 2, 2, 2, 2), 'num_pool_per_axis': [4, 5, 5], 'pool_op_kernel_sizes': [[1, 1, 1], [2, 2, 2], [2, 2, 2], [2, 2, 2], [2, 2, 2], [1, 2, 2]], 'conv_kernel_sizes': [[3, 3, 3], [3, 3, 3], [3, 3, 3], [3, 3, 3], [3, 3, 3], [3, 3, 3]], 'unet_max_num_features': 320, 'resampling_fn_data': 'resample_data_or_seg_to_shape', 'resampling_fn_seg': 'resample_data_or_seg_to_shape', 'resampling_fn_data_kwargs': {'is_seg': False, 'order': 3, 'order_z': 0, 'force_separate_z': None}, 'resampling_fn_seg_kwargs': {'is_seg': True, 'order': 1, 'order_z': 0, 'force_separate_z': None}, 'resampling_fn_probabilities': 'resample_data_or_seg_to_shape', 'resampling_fn_probabilities_kwargs': {'is_seg': False, 'order': 1, 'order_z': 0, 'force_separate_z': None}, 'batch_dice': True}\n",
      "\n",
      "Plans were saved to nnUNet_preprocessed/Dataset013_PETCTDB/nnUNetPlans.json\n",
      "Preprocessing...\n",
      "Preprocessing dataset Dataset013_PETCTDB\n",
      "Configuration: 2d...\n",
      "100%|█████████████████████████████████████████████| 6/6 [01:11<00:00, 11.97s/it]\n",
      "Configuration: 3d_fullres...\n",
      "100%|█████████████████████████████████████████████| 6/6 [01:00<00:00, 10.14s/it]\n",
      "Configuration: 3d_lowres...\n",
      "  0%|                                                     | 0/6 [00:44<?, ?it/s]\n",
      "Traceback (most recent call last):\n",
      "  File \"/home/ec2-user/anaconda3/envs/pytorch_p310/bin/nnUNetv2_plan_and_preprocess\", line 8, in <module>\n",
      "    sys.exit(plan_and_preprocess_entry())\n",
      "  File \"/home/ec2-user/SageMaker/nnUNet/nnunetv2/experiment_planning/plan_and_preprocess_entrypoints.py\", line 197, in plan_and_preprocess_entry\n",
      "    preprocess(args.d, args.overwrite_plans_name, args.c, np, args.verbose)\n",
      "  File \"/home/ec2-user/SageMaker/nnUNet/nnunetv2/experiment_planning/plan_and_preprocess_api.py\", line 138, in preprocess\n",
      "    preprocess_dataset(d, plans_identifier, configurations, num_processes, verbose)\n",
      "  File \"/home/ec2-user/SageMaker/nnUNet/nnunetv2/experiment_planning/plan_and_preprocess_api.py\", line 116, in preprocess_dataset\n",
      "    preprocessor.run(dataset_id, c, plans_identifier, num_processes=n)\n",
      "  File \"/home/ec2-user/SageMaker/nnUNet/nnunetv2/preprocessing/preprocessors/default_preprocessor.py\", line 246, in run\n",
      "    raise RuntimeError('Some background worker is 6 feet under. Yuck. \\n'\n",
      "RuntimeError: Some background worker is 6 feet under. Yuck. \n",
      "OK jokes aside.\n",
      "One of your background processes is missing. This could be because of an error (look for an error message) or because it was killed by your OS due to running out of RAM. If you don't see an error message, out of RAM is likely the problem. In that case reducing the number of workers might help\n"
     ]
    }
   ],
   "source": [
    "!nnUNetv2_plan_and_preprocess -d 013 --verify_dataset_integrity"
   ]
  },
  {
   "cell_type": "code",
   "execution_count": null,
   "id": "b8d22c3b-80f8-4e7b-8af2-ec3594ea80b2",
   "metadata": {},
   "outputs": [],
   "source": []
  }
 ],
 "metadata": {
  "kernelspec": {
   "display_name": "conda_pytorch_p310",
   "language": "python",
   "name": "conda_pytorch_p310"
  },
  "language_info": {
   "codemirror_mode": {
    "name": "ipython",
    "version": 3
   },
   "file_extension": ".py",
   "mimetype": "text/x-python",
   "name": "python",
   "nbconvert_exporter": "python",
   "pygments_lexer": "ipython3",
   "version": "3.10.10"
  }
 },
 "nbformat": 4,
 "nbformat_minor": 5
}
